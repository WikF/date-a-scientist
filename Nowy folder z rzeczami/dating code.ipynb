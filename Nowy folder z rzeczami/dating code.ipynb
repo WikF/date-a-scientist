{
 "cells": [
  {
   "cell_type": "code",
   "execution_count": 1,
   "metadata": {},
   "outputs": [],
   "source": [
    "import pandas as pd\n",
    "import numpy as np\n",
    "from matplotlib import pyplot as plt\n",
    "import re\n",
    "from sklearn.preprocessing import MinMaxScaler\n",
    "from sklearn.preprocessing import LabelEncoder\n",
    "from sklearn.neighbors import KNeighborsClassifier\n",
    "from sklearn.model_selection import train_test_split\n",
    "from sklearn.metrics import r2_score\n",
    "from sklearn import metrics\n",
    "from sklearn.metrics import classification_report\n",
    "from sklearn.naive_bayes import GaussianNB\n",
    "from sklearn.metrics import classification_report\n",
    "from sklearn import metrics\n"
   ]
  },
  {
   "cell_type": "code",
   "execution_count": 2,
   "metadata": {},
   "outputs": [],
   "source": [
    "df = pd.read_csv('profiles.csv')"
   ]
  },
  {
   "cell_type": "code",
   "execution_count": 3,
   "metadata": {},
   "outputs": [
    {
     "data": {
      "text/plain": [
       "Index(['age', 'body_type', 'diet', 'drinks', 'drugs', 'education', 'essay0',\n",
       "       'essay1', 'essay2', 'essay3', 'essay4', 'essay5', 'essay6', 'essay7',\n",
       "       'essay8', 'essay9', 'ethnicity', 'height', 'income', 'job',\n",
       "       'last_online', 'location', 'offspring', 'orientation', 'pets',\n",
       "       'religion', 'sex', 'sign', 'smokes', 'speaks', 'status'],\n",
       "      dtype='object')"
      ]
     },
     "execution_count": 3,
     "metadata": {},
     "output_type": "execute_result"
    }
   ],
   "source": [
    "df.columns"
   ]
  },
  {
   "cell_type": "code",
   "execution_count": 4,
   "metadata": {},
   "outputs": [
    {
     "data": {
      "image/png": "[encoded data removed]",
      "text/plain": [
       "<Figure size 432x288 with 1 Axes>"
      ]
     },
     "metadata": {
      "needs_background": "light"
     },
     "output_type": "display_data"
    }
   ],
   "source": [
    "plt.hist(df.age)\n",
    "plt.show()"
   ]
  },
  {
   "cell_type": "code",
   "execution_count": 5,
   "metadata": {},
   "outputs": [],
   "source": [
    "all_data = df"
   ]
  },
  {
   "cell_type": "code",
   "execution_count": 6,
   "metadata": {},
   "outputs": [],
   "source": [
    "drink_mapping = {\"not at all\": 0, \"rarely\": 1, \"socially\": 2, \"often\": 3, \"very often\": 4, \"desperately\": 5}\n",
    "all_data[\"drinks_code\"] = all_data.drinks.map(drink_mapping)"
   ]
  },
  {
   "cell_type": "code",
   "execution_count": 7,
   "metadata": {},
   "outputs": [],
   "source": [
    "drugs_mapping = {\"never\":0, \"sometimes\": 1, \"often\": 2}\n",
    "all_data[\"drugs_code\"] = all_data.drugs.map(drugs_mapping)"
   ]
  },
  {
   "cell_type": "code",
   "execution_count": 8,
   "metadata": {},
   "outputs": [],
   "source": [
    "smokes_mapping = {\"no\": 0, \"when drinking\":1, \"sometimes\": 2, \"trying to quit\":3 , \"yes\": 4}\n",
    "all_data[\"smokes_code\"] = all_data.smokes.map(smokes_mapping)"
   ]
  },
  {
   "cell_type": "code",
   "execution_count": 9,
   "metadata": {},
   "outputs": [
    {
     "data": {
      "text/plain": [
       "array(['asian, white', 'white', nan, 'asian, black, other',\n",
       "       'white, other', 'hispanic / latin, white', 'hispanic / latin',\n",
       "       'pacific islander, white', 'asian', 'black, white',\n",
       "       'pacific islander', 'asian, native american',\n",
       "       'asian, pacific islander', 'black, native american, white',\n",
       "       'middle eastern, other', 'native american, white', 'indian',\n",
       "       'black', 'black, native american, hispanic / latin, other',\n",
       "       'black, native american, hispanic / latin',\n",
       "       'asian, black, pacific islander',\n",
       "       'asian, middle eastern, black, native american, indian, pacific islander, hispanic / latin, white, other',\n",
       "       'other', 'hispanic / latin, other', 'asian, black',\n",
       "       'middle eastern, white', 'native american, white, other',\n",
       "       'black, native american', 'black, white, other',\n",
       "       'hispanic / latin, white, other', 'middle eastern', 'black, other',\n",
       "       'native american, hispanic / latin, white', 'black, indian',\n",
       "       'indian, white, other', 'middle eastern, indian, other',\n",
       "       'black, native american, hispanic / latin, white, other',\n",
       "       'pacific islander, hispanic / latin',\n",
       "       'black, hispanic / latin, white', 'native american',\n",
       "       'indian, white', 'asian, white, other', 'black, hispanic / latin',\n",
       "       'asian, hispanic / latin, white',\n",
       "       'middle eastern, hispanic / latin',\n",
       "       'asian, black, native american, pacific islander, white',\n",
       "       'middle eastern, indian', 'asian, indian',\n",
       "       'pacific islander, other', 'black, native american, white, other',\n",
       "       'black, pacific islander',\n",
       "       'middle eastern, native american, white',\n",
       "       'asian, native american, white, other',\n",
       "       'pacific islander, hispanic / latin, white', 'indian, other',\n",
       "       'asian, pacific islander, other', 'black, hispanic / latin, other',\n",
       "       'asian, black, native american',\n",
       "       'black, native american, hispanic / latin, white',\n",
       "       'native american, hispanic / latin', 'indian, hispanic / latin',\n",
       "       'native american, pacific islander',\n",
       "       'asian, black, native american, hispanic / latin, white',\n",
       "       'asian, black, white',\n",
       "       'asian, black, native american, pacific islander, other',\n",
       "       'middle eastern, hispanic / latin, white',\n",
       "       'asian, pacific islander, white',\n",
       "       'asian, native american, hispanic / latin, white, other',\n",
       "       'asian, hispanic / latin', 'asian, pacific islander, white, other',\n",
       "       'middle eastern, white, other',\n",
       "       'asian, pacific islander, hispanic / latin',\n",
       "       'black, native american, indian, other',\n",
       "       'native american, hispanic / latin, white, other',\n",
       "       'black, native american, other', 'asian, other',\n",
       "       'middle eastern, hispanic / latin, other',\n",
       "       'pacific islander, hispanic / latin, white, other',\n",
       "       'asian, black, hispanic / latin',\n",
       "       'asian, pacific islander, hispanic / latin, white',\n",
       "       'asian, black, native american, white',\n",
       "       'asian, middle eastern, white, other',\n",
       "       'native american, pacific islander, hispanic / latin',\n",
       "       'asian, native american, white',\n",
       "       'native american, pacific islander, hispanic / latin, white, other',\n",
       "       'indian, pacific islander', 'asian, middle eastern, black',\n",
       "       'asian, middle eastern, indian', 'asian, middle eastern, white',\n",
       "       'pacific islander, white, other',\n",
       "       'black, pacific islander, hispanic / latin',\n",
       "       'asian, middle eastern', 'asian, hispanic / latin, other',\n",
       "       'middle eastern, black, native american, indian, white, other',\n",
       "       'middle eastern, pacific islander, other', 'middle eastern, black',\n",
       "       'asian, indian, pacific islander',\n",
       "       'black, native american, pacific islander',\n",
       "       'native american, indian',\n",
       "       'asian, middle eastern, black, native american, indian, pacific islander, hispanic / latin, white',\n",
       "       'black, indian, other',\n",
       "       'asian, middle eastern, indian, hispanic / latin, white, other',\n",
       "       'middle eastern, black, white',\n",
       "       'asian, hispanic / latin, white, other',\n",
       "       'native american, hispanic / latin, other',\n",
       "       'middle eastern, black, pacific islander, white',\n",
       "       'asian, black, native american, hispanic / latin',\n",
       "       'native american, other', 'black, indian, white',\n",
       "       'asian, native american, hispanic / latin, white',\n",
       "       'black, native american, indian, white',\n",
       "       'middle eastern, black, indian, pacific islander, hispanic / latin, white',\n",
       "       'middle eastern, hispanic / latin, white, other',\n",
       "       'asian, black, native american, other',\n",
       "       'native american, pacific islander, hispanic / latin, white',\n",
       "       'asian, indian, other',\n",
       "       'middle eastern, native american, hispanic / latin, white, other',\n",
       "       'asian, middle eastern, black, pacific islander, hispanic / latin, white',\n",
       "       'black, native american, pacific islander, hispanic / latin, white, other',\n",
       "       'asian, middle eastern, native american, hispanic / latin, white',\n",
       "       'asian, middle eastern, black, native american, pacific islander, hispanic / latin, white, other',\n",
       "       'asian, indian, white',\n",
       "       'native american, pacific islander, white, other',\n",
       "       'middle eastern, black, native american, indian, pacific islander, hispanic / latin, white',\n",
       "       'asian, middle eastern, other', 'middle eastern, pacific islander',\n",
       "       'asian, black, hispanic / latin, other',\n",
       "       'asian, middle eastern, black, native american, hispanic / latin, white',\n",
       "       'middle eastern, black, hispanic / latin',\n",
       "       'black, pacific islander, white',\n",
       "       'asian, middle eastern, black, native american, indian, pacific islander, hispanic / latin, other',\n",
       "       'middle eastern, black, native american, indian, hispanic / latin, white',\n",
       "       'asian, pacific islander, hispanic / latin, white, other',\n",
       "       'middle eastern, indian, white', 'asian, indian, white, other',\n",
       "       'middle eastern, black, native american, white, other',\n",
       "       'black, native american, pacific islander, other',\n",
       "       'middle eastern, black, native american, white',\n",
       "       'asian, indian, pacific islander, other',\n",
       "       'asian, black, native american, white, other',\n",
       "       'black, indian, hispanic / latin, white',\n",
       "       'asian, middle eastern, black, native american, indian, pacific islander, white',\n",
       "       'asian, black, pacific islander, hispanic / latin',\n",
       "       'middle eastern, black, native american, indian, pacific islander, hispanic / latin, white, other',\n",
       "       'asian, black, native american, indian',\n",
       "       'asian, black, indian, hispanic / latin, other',\n",
       "       'indian, hispanic / latin, other',\n",
       "       'asian, indian, hispanic / latin',\n",
       "       'asian, native american, pacific islander, white, other',\n",
       "       'asian, black, native american, indian, hispanic / latin, white, other',\n",
       "       'asian, indian, hispanic / latin, white',\n",
       "       'pacific islander, hispanic / latin, other',\n",
       "       'asian, indian, pacific islander, hispanic / latin, white, other',\n",
       "       'indian, hispanic / latin, white',\n",
       "       'asian, native american, pacific islander, hispanic / latin, white, other',\n",
       "       'asian, pacific islander, hispanic / latin, other',\n",
       "       'asian, black, hispanic / latin, white, other',\n",
       "       'black, indian, hispanic / latin',\n",
       "       'middle eastern, black, native american, hispanic / latin, white',\n",
       "       'black, pacific islander, other',\n",
       "       'black, native american, pacific islander, white',\n",
       "       'asian, black, native american, pacific islander',\n",
       "       'asian, indian, hispanic / latin, other',\n",
       "       'middle eastern, native american',\n",
       "       'middle eastern, native american, hispanic / latin',\n",
       "       'black, hispanic / latin, white, other',\n",
       "       'asian, native american, pacific islander, hispanic / latin, white',\n",
       "       'asian, native american, hispanic / latin',\n",
       "       'black, native american, indian, hispanic / latin, white, other',\n",
       "       'asian, middle eastern, hispanic / latin, white',\n",
       "       'black, native american, pacific islander, white, other',\n",
       "       'native american, indian, pacific islander, hispanic / latin',\n",
       "       'black, indian, white, other',\n",
       "       'asian, middle eastern, native american, pacific islander, hispanic / latin, white, other',\n",
       "       'native american, pacific islander, white',\n",
       "       'middle eastern, indian, white, other',\n",
       "       'asian, black, white, other',\n",
       "       'middle eastern, native american, hispanic / latin, white',\n",
       "       'indian, hispanic / latin, white, other',\n",
       "       'asian, middle eastern, black, pacific islander',\n",
       "       'asian, middle eastern, black, indian, pacific islander, hispanic / latin, white',\n",
       "       'asian, middle eastern, indian, other',\n",
       "       'asian, middle eastern, black, white, other',\n",
       "       'black, native american, pacific islander, hispanic / latin, white',\n",
       "       'black, native american, indian, pacific islander, hispanic / latin',\n",
       "       'asian, black, pacific islander, white',\n",
       "       'middle eastern, pacific islander, hispanic / latin',\n",
       "       'black, native american, indian, white, other',\n",
       "       'asian, black, hispanic / latin, white',\n",
       "       'asian, black, native american, indian, pacific islander, white',\n",
       "       'asian, black, native american, indian, pacific islander, hispanic / latin',\n",
       "       'asian, middle eastern, hispanic / latin, white, other',\n",
       "       'middle eastern, black, native american, indian',\n",
       "       'asian, native american, pacific islander',\n",
       "       'asian, black, native american, pacific islander, white, other',\n",
       "       'asian, middle eastern, hispanic / latin',\n",
       "       'asian, black, pacific islander, other',\n",
       "       'asian, native american, indian, pacific islander, hispanic / latin, white',\n",
       "       'middle eastern, native american, white, other',\n",
       "       'asian, native american, hispanic / latin, other',\n",
       "       'native american, indian, white',\n",
       "       'black, native american, pacific islander, hispanic / latin',\n",
       "       'asian, native american, pacific islander, white',\n",
       "       'black, native american, indian',\n",
       "       'indian, pacific islander, hispanic / latin, white',\n",
       "       'asian, middle eastern, black, native american, indian, pacific islander, hispanic / latin',\n",
       "       'asian, middle eastern, indian, hispanic / latin',\n",
       "       'asian, middle eastern, native american, pacific islander, other',\n",
       "       'black, native american, indian, pacific islander',\n",
       "       'asian, middle eastern, native american, pacific islander, white, other',\n",
       "       'asian, native american, other', 'middle eastern, black, other',\n",
       "       'asian, black, pacific islander, hispanic / latin, white',\n",
       "       'asian, middle eastern, native american, indian, pacific islander, hispanic / latin, white',\n",
       "       'asian, native american, indian, pacific islander, hispanic / latin, white, other',\n",
       "       'asian, middle eastern, black, pacific islander, hispanic / latin',\n",
       "       'asian, black, pacific islander, white, other',\n",
       "       'asian, black, indian'], dtype=object)"
      ]
     },
     "execution_count": 9,
     "metadata": {},
     "output_type": "execute_result"
    }
   ],
   "source": [
    "all_data.ethnicity.unique()"
   ]
  },
  {
   "cell_type": "code",
   "execution_count": 10,
   "metadata": {},
   "outputs": [
    {
     "data": {
      "text/plain": [
       "<matplotlib.axes._subplots.AxesSubplot at 0x1a1a0de780>"
      ]
     },
     "execution_count": 10,
     "metadata": {},
     "output_type": "execute_result"
    },
    {
     "data": {
      "image/png": "[encoded data removed]",
      "text/plain": [
       "<Figure size 432x288 with 1 Axes>"
      ]
     },
     "metadata": {
      "needs_background": "light"
     },
     "output_type": "display_data"
    }
   ],
   "source": [
    "all_data['drinks_code'].hist()"
   ]
  },
  {
   "cell_type": "code",
   "execution_count": 11,
   "metadata": {},
   "outputs": [
    {
     "name": "stderr",
     "output_type": "stream",
     "text": [
      "/anaconda3/lib/python3.7/site-packages/numpy/lib/histograms.py:754: RuntimeWarning: invalid value encountered in greater_equal\n",
      "  keep = (tmp_a >= first_edge)\n",
      "/anaconda3/lib/python3.7/site-packages/numpy/lib/histograms.py:755: RuntimeWarning: invalid value encountered in less_equal\n",
      "  keep &= (tmp_a <= last_edge)\n"
     ]
    },
    {
     "data": {
      "text/plain": [
       "(array([ 3267.,     0.,  5957.,     0., 41780.,     0.,  5164.,     0.,\n",
       "          471.,   322.]),\n",
       " array([0. , 0.5, 1. , 1.5, 2. , 2.5, 3. , 3.5, 4. , 4.5, 5. ]),\n",
       " <a list of 10 Patch objects>)"
      ]
     },
     "execution_count": 11,
     "metadata": {},
     "output_type": "execute_result"
    },
    {
     "data": {
      "image/png": "[encoded data removed]",
      "text/plain": [
       "<Figure size 432x288 with 1 Axes>"
      ]
     },
     "metadata": {
      "needs_background": "light"
     },
     "output_type": "display_data"
    }
   ],
   "source": [
    "plt.hist(all_data[\"drinks_code\"])"
   ]
  },
  {
   "cell_type": "code",
   "execution_count": 12,
   "metadata": {},
   "outputs": [
    {
     "data": {
      "text/plain": [
       "array(['never', 'sometimes', nan, 'often'], dtype=object)"
      ]
     },
     "execution_count": 12,
     "metadata": {},
     "output_type": "execute_result"
    }
   ],
   "source": [
    "df.drugs.unique()"
   ]
  },
  {
   "cell_type": "code",
   "execution_count": 13,
   "metadata": {},
   "outputs": [
    {
     "data": {
      "text/plain": [
       "<matplotlib.axes._subplots.AxesSubplot at 0x1a19aecac8>"
      ]
     },
     "execution_count": 13,
     "metadata": {},
     "output_type": "execute_result"
    },
    {
     "data": {
      "image/png": "[encoded data removed]",
      "text/plain": [
       "<Figure size 432x288 with 1 Axes>"
      ]
     },
     "metadata": {
      "needs_background": "light"
     },
     "output_type": "display_data"
    }
   ],
   "source": [
    "all_data[\"drugs_code\"].hist()"
   ]
  },
  {
   "cell_type": "code",
   "execution_count": 14,
   "metadata": {},
   "outputs": [
    {
     "data": {
      "text/plain": [
       "<matplotlib.collections.PathCollection at 0x1a19c36400>"
      ]
     },
     "execution_count": 14,
     "metadata": {},
     "output_type": "execute_result"
    },
    {
     "data": {
      "image/png": "[encoded data removed]",
      "text/plain": [
       "<Figure size 432x288 with 1 Axes>"
      ]
     },
     "metadata": {
      "needs_background": "light"
     },
     "output_type": "display_data"
    }
   ],
   "source": [
    "plt.scatter(all_data['drugs_code'], all_data['drinks_code'], alpha = 0.004)"
   ]
  },
  {
   "cell_type": "code",
   "execution_count": 15,
   "metadata": {},
   "outputs": [
    {
     "data": {
      "text/plain": [
       "array(['sometimes', 'no', nan, 'when drinking', 'yes', 'trying to quit'],\n",
       "      dtype=object)"
      ]
     },
     "execution_count": 15,
     "metadata": {},
     "output_type": "execute_result"
    }
   ],
   "source": [
    "df.smokes.unique()"
   ]
  },
  {
   "cell_type": "code",
   "execution_count": 16,
   "metadata": {},
   "outputs": [
    {
     "data": {
      "text/plain": [
       "(array([43896.,     0.,  3040.,     0.,     0.,  3787.,     0.,  1480.,\n",
       "            0.,  2231.]),\n",
       " array([0. , 0.4, 0.8, 1.2, 1.6, 2. , 2.4, 2.8, 3.2, 3.6, 4. ]),\n",
       " <a list of 10 Patch objects>)"
      ]
     },
     "execution_count": 16,
     "metadata": {},
     "output_type": "execute_result"
    },
    {
     "data": {
      "image/png": "[encoded data removed]",
      "text/plain": [
       "<Figure size 432x288 with 1 Axes>"
      ]
     },
     "metadata": {
      "needs_background": "light"
     },
     "output_type": "display_data"
    }
   ],
   "source": [
    "plt.hist(all_data[\"smokes_code\"], bins = 10)"
   ]
  },
  {
   "cell_type": "code",
   "execution_count": 17,
   "metadata": {},
   "outputs": [
    {
     "data": {
      "text/plain": [
       "<matplotlib.collections.PathCollection at 0x1a1b15cf98>"
      ]
     },
     "execution_count": 17,
     "metadata": {},
     "output_type": "execute_result"
    },
    {
     "data": {
      "image/png": "[encoded data removed]",
      "text/plain": [
       "<Figure size 432x288 with 1 Axes>"
      ]
     },
     "metadata": {
      "needs_background": "light"
     },
     "output_type": "display_data"
    }
   ],
   "source": [
    "plt.scatter(all_data.smokes_code, all_data.drinks_code, alpha = 0.002)"
   ]
  },
  {
   "cell_type": "code",
   "execution_count": 18,
   "metadata": {},
   "outputs": [],
   "source": [
    "essay_cols = [\"essay0\",\"essay1\",\"essay2\",\"essay3\",\"essay4\",\"essay5\",\"essay6\",\"essay7\",\"essay8\",\"essay9\"]\n",
    "\n",
    "\n",
    "# Removing the NaNs\n",
    "all_essays = all_data[essay_cols].replace(np.nan, '', regex=True)\n",
    "# Combining the essays\n",
    "all_essays = all_essays[essay_cols].apply(lambda x: ' '.join(x), axis=1)\n",
    "\n",
    "\n",
    "all_data[\"essay_len\"] = all_essays.apply(lambda x: len(x))"
   ]
  },
  {
   "cell_type": "code",
   "execution_count": 19,
   "metadata": {},
   "outputs": [],
   "source": [
    "all_data['avg_word_length'] = all_data.essay_len/ all_essays.apply(lambda x: len(x.split(' ')))"
   ]
  },
  {
   "cell_type": "code",
   "execution_count": 20,
   "metadata": {},
   "outputs": [],
   "source": [
    "feature_data = all_data[['smokes_code', 'drinks_code', 'drugs_code', 'essay_len', 'avg_word_length']]\n"
   ]
  },
  {
   "cell_type": "code",
   "execution_count": 21,
   "metadata": {},
   "outputs": [],
   "source": [
    "#all_data['drinks_code'] = all_data['drinks_code'].dropna()"
   ]
  },
  {
   "cell_type": "code",
   "execution_count": 22,
   "metadata": {},
   "outputs": [],
   "source": [
    "all_data = all_data.dropna()"
   ]
  },
  {
   "cell_type": "code",
   "execution_count": 23,
   "metadata": {},
   "outputs": [],
   "source": [
    "feature_data = all_data[['smokes_code', 'drinks_code', 'drugs_code', 'essay_len', 'avg_word_length']]\n",
    "\n",
    "\n",
    "x = feature_data.values\n",
    "min_max_scaler = MinMaxScaler()\n",
    "x_scaled = min_max_scaler.fit_transform(x)\n",
    "\n",
    "\n",
    "feature_data = pd.DataFrame(x_scaled, columns=feature_data.columns)"
   ]
  },
  {
   "cell_type": "markdown",
   "metadata": {},
   "source": [
    "## KNN for sign \n"
   ]
  },
  {
   "cell_type": "code",
   "execution_count": 24,
   "metadata": {},
   "outputs": [],
   "source": [
    "from sklearn.metrics import accuracy_score\n",
    "l = []\n",
    "list_i = []\n",
    "x_train, x_test, y_train, y_test = train_test_split(feature_data, all_data.sign, test_size = 0.25, random_state=12)\n",
    "\n",
    "for i in range(1,500):\n",
    "    neigh = KNeighborsClassifier(n_neighbors = i)\n",
    "\n",
    "    neigh.fit(x_train, y_train)\n",
    "    kpred = neigh.predict(x_test)\n",
    "    l.append(accuracy_score(kpred, y_test))\n",
    "    \n",
    "    list_i.append(i)"
   ]
  },
  {
   "cell_type": "code",
   "execution_count": 25,
   "metadata": {},
   "outputs": [
    {
     "data": {
      "text/plain": [
       "0.041742286751361164"
      ]
     },
     "execution_count": 25,
     "metadata": {},
     "output_type": "execute_result"
    }
   ],
   "source": [
    "max(l)"
   ]
  },
  {
   "cell_type": "code",
   "execution_count": null,
   "metadata": {},
   "outputs": [],
   "source": []
  },
  {
   "cell_type": "code",
   "execution_count": 26,
   "metadata": {},
   "outputs": [
    {
     "name": "stderr",
     "output_type": "stream",
     "text": [
      "/anaconda3/lib/python3.7/site-packages/sklearn/metrics/classification.py:1135: UndefinedMetricWarning: Precision is ill-defined and being set to 0.0 in labels with no predicted samples.\n",
      "  'precision', 'predicted', average, warn_for)\n"
     ]
    },
    {
     "data": {
      "text/plain": [
       "0.013308577104397238"
      ]
     },
     "execution_count": 26,
     "metadata": {},
     "output_type": "execute_result"
    }
   ],
   "source": [
    "from sklearn.metrics import confusion_matrix\n",
    "metrics.precision_score(y_test, kpred, average = 'weighted')\n"
   ]
  },
  {
   "cell_type": "code",
   "execution_count": 27,
   "metadata": {},
   "outputs": [
    {
     "data": {
      "text/plain": [
       "0.02722323049001815"
      ]
     },
     "execution_count": 27,
     "metadata": {},
     "output_type": "execute_result"
    }
   ],
   "source": [
    "metrics.recall_score(y_test, kpred, average = 'weighted')"
   ]
  },
  {
   "cell_type": "code",
   "execution_count": 28,
   "metadata": {},
   "outputs": [
    {
     "data": {
      "text/plain": [
       "2"
      ]
     },
     "execution_count": 28,
     "metadata": {},
     "output_type": "execute_result"
    }
   ],
   "source": [
    "l.index(max(l))"
   ]
  },
  {
   "cell_type": "code",
   "execution_count": 29,
   "metadata": {},
   "outputs": [
    {
     "data": {
      "text/plain": [
       "0.041742286751361164"
      ]
     },
     "execution_count": 29,
     "metadata": {},
     "output_type": "execute_result"
    }
   ],
   "source": [
    "neigh = KNeighborsClassifier(n_neighbors = 3)\n",
    "neigh.fit(x_train, y_train)\n",
    "kpred = neigh.predict(x_test)\n",
    "accuracy_score(kpred, y_test)\n"
   ]
  },
  {
   "cell_type": "code",
   "execution_count": 30,
   "metadata": {},
   "outputs": [
    {
     "data": {
      "text/plain": [
       "[<matplotlib.lines.Line2D at 0x1a1b455208>]"
      ]
     },
     "execution_count": 30,
     "metadata": {},
     "output_type": "execute_result"
    },
    {
     "data": {
      "image/png": "[encoded data removed]",
      "text/plain": [
       "<Figure size 1440x720 with 1 Axes>"
      ]
     },
     "metadata": {
      "needs_background": "light"
     },
     "output_type": "display_data"
    }
   ],
   "source": [
    "plt.figure(figsize = (20,10))\n",
    "plt.plot(list_i, l)\n",
    "\n"
   ]
  },
  {
   "cell_type": "markdown",
   "metadata": {},
   "source": [
    "## SIGN  SVC\n"
   ]
  },
  {
   "cell_type": "code",
   "execution_count": 31,
   "metadata": {},
   "outputs": [],
   "source": [
    "from sklearn.svm import SVC"
   ]
  },
  {
   "cell_type": "code",
   "execution_count": 32,
   "metadata": {},
   "outputs": [],
   "source": [
    "acc=[]\n",
    "l =[]\n",
    "for i in ('linear', 'poly', 'rbf', 'sigmoid'):\n",
    "    svc = SVC(kernel = i)\n",
    "    svc.fit(x_train, y_train)\n",
    "    spred = svc.predict(x_test)\n",
    "    acc.append(accuracy_score(spred, y_test))\n",
    "    l.append(i)"
   ]
  },
  {
   "cell_type": "code",
   "execution_count": 33,
   "metadata": {},
   "outputs": [
    {
     "data": {
      "text/plain": [
       "0.030852994555353903"
      ]
     },
     "execution_count": 33,
     "metadata": {},
     "output_type": "execute_result"
    }
   ],
   "source": [
    "max(acc)"
   ]
  },
  {
   "cell_type": "code",
   "execution_count": null,
   "metadata": {},
   "outputs": [],
   "source": []
  },
  {
   "cell_type": "code",
   "execution_count": 34,
   "metadata": {},
   "outputs": [
    {
     "data": {
      "text/plain": [
       "'rbf'"
      ]
     },
     "execution_count": 34,
     "metadata": {},
     "output_type": "execute_result"
    }
   ],
   "source": [
    "l[acc.index(max(acc))]"
   ]
  },
  {
   "cell_type": "code",
   "execution_count": 35,
   "metadata": {},
   "outputs": [
    {
     "data": {
      "text/plain": [
       "[<matplotlib.lines.Line2D at 0x1a1b65aac8>]"
      ]
     },
     "execution_count": 35,
     "metadata": {},
     "output_type": "execute_result"
    },
    {
     "data": {
      "image/png": "[encoded data removed]",
      "text/plain": [
       "<Figure size 720x288 with 1 Axes>"
      ]
     },
     "metadata": {
      "needs_background": "light"
     },
     "output_type": "display_data"
    }
   ],
   "source": [
    "plt.figure(figsize = (10,4))\n",
    "\n",
    "plt.plot(l, acc)"
   ]
  },
  {
   "cell_type": "code",
   "execution_count": 36,
   "metadata": {},
   "outputs": [
    {
     "data": {
      "text/plain": [
       "SVC(C=1.0, cache_size=200, class_weight=None, coef0=0.0,\n",
       "  decision_function_shape='ovr', degree=3, gamma='auto', kernel='rbf',\n",
       "  max_iter=-1, probability=False, random_state=None, shrinking=True,\n",
       "  tol=0.001, verbose=False)"
      ]
     },
     "execution_count": 36,
     "metadata": {},
     "output_type": "execute_result"
    }
   ],
   "source": [
    "svc = SVC(kernel='rbf')\n",
    "svc.fit(x_train, y_train)\n"
   ]
  },
  {
   "cell_type": "code",
   "execution_count": 37,
   "metadata": {},
   "outputs": [],
   "source": [
    "spred = svc.predict(x_test)"
   ]
  },
  {
   "cell_type": "code",
   "execution_count": 38,
   "metadata": {},
   "outputs": [
    {
     "data": {
      "text/plain": [
       "0.030852994555353903"
      ]
     },
     "execution_count": 38,
     "metadata": {},
     "output_type": "execute_result"
    }
   ],
   "source": [
    "accuracy_score(spred, y_test)"
   ]
  },
  {
   "cell_type": "code",
   "execution_count": 39,
   "metadata": {},
   "outputs": [
    {
     "name": "stderr",
     "output_type": "stream",
     "text": [
      "/anaconda3/lib/python3.7/site-packages/sklearn/metrics/classification.py:1135: UndefinedMetricWarning: Precision is ill-defined and being set to 0.0 in labels with no predicted samples.\n",
      "  'precision', 'predicted', average, warn_for)\n"
     ]
    },
    {
     "data": {
      "text/plain": [
       "0.0052635746431512346"
      ]
     },
     "execution_count": 39,
     "metadata": {},
     "output_type": "execute_result"
    }
   ],
   "source": [
    "metrics.precision_score(y_test, spred, average = 'weighted')\n"
   ]
  },
  {
   "cell_type": "code",
   "execution_count": 40,
   "metadata": {},
   "outputs": [
    {
     "data": {
      "text/plain": [
       "0.030852994555353903"
      ]
     },
     "execution_count": 40,
     "metadata": {},
     "output_type": "execute_result"
    }
   ],
   "source": [
    "metrics.recall_score(y_test, spred, average = 'weighted')"
   ]
  },
  {
   "cell_type": "code",
   "execution_count": 41,
   "metadata": {},
   "outputs": [
    {
     "name": "stderr",
     "output_type": "stream",
     "text": [
      "/anaconda3/lib/python3.7/site-packages/ipykernel_launcher.py:33: SettingWithCopyWarning: \n",
      "A value is trying to be set on a copy of a slice from a DataFrame.\n",
      "Try using .loc[row_indexer,col_indexer] = value instead\n",
      "\n",
      "See the caveats in the documentation: http://pandas.pydata.org/pandas-docs/stable/indexing.html#indexing-view-versus-copy\n"
     ]
    }
   ],
   "source": [
    "education_mapping ={\"working on college/university\":0,\n",
    "\"working on space camp\":1,\n",
    "\"graduated from masters program\":2,\n",
    "\"graduated from college/university\":3,\n",
    "\"working on two-year college\":4,\n",
    "\"graduated from high school\":5,\n",
    "\"working on masters program\":6,\n",
    "\"graduated from space camp\":7,\n",
    "\"college/university\":8,\n",
    "\"dropped out of space camp\":9,\n",
    "\"graduated from ph.d program\" :10,\n",
    "\"graduated from law school\":11,\n",
    "\"working on ph.d program\":12,\n",
    "\"two-year college\":13,\n",
    "\"graduated from two-year college\" :14,\n",
    "\"working on med school\":15,\n",
    "\"dropped out of college/university\" :16,\n",
    "\"space camp\":17,\n",
    "\"graduated from med school\" :18,\n",
    "\"dropped out of high school\" :19,\n",
    "\"working on high school\" :20,\n",
    "\"masters program\" :21,\n",
    "\"dropped out of ph.d program\" :22,\n",
    "\"dropped out of two-year college\" :23,\n",
    "\"dropped out of med school\" :24,\n",
    "\"high school\" :25,\n",
    "\"working on law school\" :26,\n",
    "\"law school\" :27,\n",
    "\"dropped out of masters program\" :28,\n",
    "\"ph.d program\":29,\n",
    "\"dropped out of law school\" :30,\n",
    "\"med school\":31}\n",
    "all_data[\"education_code\"] = df.education.map(education_mapping)"
   ]
  },
  {
   "cell_type": "code",
   "execution_count": 42,
   "metadata": {},
   "outputs": [
    {
     "name": "stderr",
     "output_type": "stream",
     "text": [
      "/anaconda3/lib/python3.7/site-packages/ipykernel_launcher.py:2: SettingWithCopyWarning: \n",
      "A value is trying to be set on a copy of a slice from a DataFrame.\n",
      "Try using .loc[row_indexer,col_indexer] = value instead\n",
      "\n",
      "See the caveats in the documentation: http://pandas.pydata.org/pandas-docs/stable/indexing.html#indexing-view-versus-copy\n",
      "  \n"
     ]
    }
   ],
   "source": [
    "status_mapping = {\"single\": 0, \"available\": 1, \"seeing someone\": 2, \"married\": 3}\n",
    "all_data[\"status_code\"] = all_data.status.map(status_mapping)"
   ]
  },
  {
   "cell_type": "code",
   "execution_count": 43,
   "metadata": {},
   "outputs": [
    {
     "name": "stderr",
     "output_type": "stream",
     "text": [
      "/anaconda3/lib/python3.7/site-packages/ipykernel_launcher.py:2: SettingWithCopyWarning: \n",
      "A value is trying to be set on a copy of a slice from a DataFrame.\n",
      "Try using .loc[row_indexer,col_indexer] = value instead\n",
      "\n",
      "See the caveats in the documentation: http://pandas.pydata.org/pandas-docs/stable/indexing.html#indexing-view-versus-copy\n",
      "  \n"
     ]
    }
   ],
   "source": [
    "sex_mapping = {\"m\": 0, \"f\": 1}\n",
    "all_data[\"sex_code\"] = all_data.sex.map(sex_mapping)"
   ]
  },
  {
   "cell_type": "code",
   "execution_count": 44,
   "metadata": {},
   "outputs": [
    {
     "data": {
      "text/plain": [
       "<BarContainer object of 4407 artists>"
      ]
     },
     "execution_count": 44,
     "metadata": {},
     "output_type": "execute_result"
    },
    {
     "data": {
      "image/png": "[encoded data removed]",
      "text/plain": [
       "<Figure size 432x288 with 1 Axes>"
      ]
     },
     "metadata": {
      "needs_background": "light"
     },
     "output_type": "display_data"
    }
   ],
   "source": [
    "plt.bar(all_data.status, all_data.offspring, alpha=0.05)"
   ]
  },
  {
   "cell_type": "markdown",
   "metadata": {},
   "source": [
    "Predicting offspring with education age ang status"
   ]
  },
  {
   "cell_type": "markdown",
   "metadata": {},
   "source": [
    "## Predicting offspring with edu age status - SVC "
   ]
  },
  {
   "cell_type": "code",
   "execution_count": 45,
   "metadata": {},
   "outputs": [],
   "source": [
    "off_features = all_data[['education_code', 'age', 'status_code']]\n",
    "\n",
    "x_train, x_test, y_train, y_test = train_test_split(off_features, all_data.offspring, test_size = 0.2)\n"
   ]
  },
  {
   "cell_type": "code",
   "execution_count": 46,
   "metadata": {},
   "outputs": [],
   "source": [
    "a = off_features.values\n",
    "min_max_scaler = MinMaxScaler()\n",
    "a_scaled = min_max_scaler.fit_transform(a)\n",
    "\n",
    "\n",
    "off_features = pd.DataFrame(a_scaled, columns=off_features.columns)"
   ]
  },
  {
   "cell_type": "code",
   "execution_count": 47,
   "metadata": {},
   "outputs": [
    {
     "data": {
      "text/plain": [
       "0.29705215419501135"
      ]
     },
     "execution_count": 47,
     "metadata": {},
     "output_type": "execute_result"
    }
   ],
   "source": [
    "\n",
    "off_svc = SVC(kernel='rbf')\n",
    "off_svc.fit(x_train, y_train)\n",
    "off_k_pred = off_svc.predict(x_test)\n",
    "accuracy_score(off_svc.predict(x_test), y_test)"
   ]
  },
  {
   "cell_type": "code",
   "execution_count": 49,
   "metadata": {},
   "outputs": [
    {
     "name": "stderr",
     "output_type": "stream",
     "text": [
      "/anaconda3/lib/python3.7/site-packages/sklearn/metrics/classification.py:1135: UndefinedMetricWarning: Precision is ill-defined and being set to 0.0 in labels with no predicted samples.\n",
      "  'precision', 'predicted', average, warn_for)\n"
     ]
    },
    {
     "data": {
      "text/plain": [
       "0.2668558617339008"
      ]
     },
     "execution_count": 49,
     "metadata": {},
     "output_type": "execute_result"
    }
   ],
   "source": [
    "metrics.precision_score(y_test, off_k_pred, average = 'weighted')"
   ]
  },
  {
   "cell_type": "code",
   "execution_count": 50,
   "metadata": {},
   "outputs": [
    {
     "data": {
      "text/plain": [
       "0.29705215419501135"
      ]
     },
     "execution_count": 50,
     "metadata": {},
     "output_type": "execute_result"
    }
   ],
   "source": [
    "metrics.recall_score(y_test, off_k_pred, average = 'weighted')"
   ]
  },
  {
   "cell_type": "markdown",
   "metadata": {},
   "source": [
    "## OFFSPRING KN"
   ]
  },
  {
   "cell_type": "code",
   "execution_count": null,
   "metadata": {},
   "outputs": [],
   "source": []
  },
  {
   "cell_type": "code",
   "execution_count": 51,
   "metadata": {},
   "outputs": [
    {
     "data": {
      "text/plain": [
       "0.29705215419501135"
      ]
     },
     "execution_count": 51,
     "metadata": {},
     "output_type": "execute_result"
    }
   ],
   "source": [
    "x=[]\n",
    "y=[]\n",
    "for i in range(1,200):\n",
    "    off_k = KNeighborsClassifier(n_neighbors = i)\n",
    "    off_k.fit(x_train, y_train)\n",
    "    x.append(i)\n",
    "    y.append(accuracy_score(off_k_pred, y_test))\n",
    "max(y)"
   ]
  },
  {
   "cell_type": "code",
   "execution_count": 52,
   "metadata": {},
   "outputs": [
    {
     "data": {
      "text/plain": [
       "1"
      ]
     },
     "execution_count": 52,
     "metadata": {},
     "output_type": "execute_result"
    }
   ],
   "source": [
    "x[y.index(max(y))]"
   ]
  },
  {
   "cell_type": "code",
   "execution_count": 53,
   "metadata": {},
   "outputs": [
    {
     "data": {
      "text/plain": [
       "KNeighborsClassifier(algorithm='auto', leaf_size=30, metric='minkowski',\n",
       "           metric_params=None, n_jobs=1, n_neighbors=199, p=2,\n",
       "           weights='uniform')"
      ]
     },
     "execution_count": 53,
     "metadata": {},
     "output_type": "execute_result"
    }
   ],
   "source": [
    "ff_k = KNeighborsClassifier(n_neighbors = 1)\n",
    "off_k.fit(x_train, y_train)"
   ]
  },
  {
   "cell_type": "code",
   "execution_count": 54,
   "metadata": {},
   "outputs": [],
   "source": [
    "off_k_pred = off_k.predict(x_test)"
   ]
  },
  {
   "cell_type": "code",
   "execution_count": 55,
   "metadata": {},
   "outputs": [
    {
     "name": "stderr",
     "output_type": "stream",
     "text": [
      "/anaconda3/lib/python3.7/site-packages/sklearn/metrics/classification.py:1135: UndefinedMetricWarning: Precision is ill-defined and being set to 0.0 in labels with no predicted samples.\n",
      "  'precision', 'predicted', average, warn_for)\n"
     ]
    },
    {
     "data": {
      "text/plain": [
       "0.1765326671619384"
      ]
     },
     "execution_count": 55,
     "metadata": {},
     "output_type": "execute_result"
    }
   ],
   "source": [
    "metrics.precision_score(y_test, off_k_pred, average = 'weighted')"
   ]
  },
  {
   "cell_type": "code",
   "execution_count": 56,
   "metadata": {},
   "outputs": [
    {
     "data": {
      "text/plain": [
       "0.25963718820861675"
      ]
     },
     "execution_count": 56,
     "metadata": {},
     "output_type": "execute_result"
    }
   ],
   "source": [
    "metrics.recall_score(y_test, off_k_pred, average = 'weighted')"
   ]
  },
  {
   "cell_type": "code",
   "execution_count": 57,
   "metadata": {},
   "outputs": [
    {
     "data": {
      "text/plain": [
       "<matplotlib.collections.PathCollection at 0x1a22459fd0>"
      ]
     },
     "execution_count": 57,
     "metadata": {},
     "output_type": "execute_result"
    },
    {
     "data": {
      "image/png": "[encoded data removed]",
      "text/plain": [
       "<Figure size 432x288 with 1 Axes>"
      ]
     },
     "metadata": {
      "needs_background": "light"
     },
     "output_type": "display_data"
    }
   ],
   "source": [
    "plt.scatter(x,y)"
   ]
  },
  {
   "cell_type": "code",
   "execution_count": 58,
   "metadata": {},
   "outputs": [
    {
     "data": {
      "text/plain": [
       "<matplotlib.collections.PathCollection at 0x1a2241b8d0>"
      ]
     },
     "execution_count": 58,
     "metadata": {},
     "output_type": "execute_result"
    },
    {
     "data": {
      "image/png": "[encoded data removed]",
      "text/plain": [
       "<Figure size 1440x648 with 1 Axes>"
      ]
     },
     "metadata": {
      "needs_background": "light"
     },
     "output_type": "display_data"
    }
   ],
   "source": [
    "plt.figure(figsize=(20,9))\n",
    "\n",
    "plt.scatter(off_k_pred, y_test, alpha = 0.3)"
   ]
  },
  {
   "cell_type": "code",
   "execution_count": 59,
   "metadata": {},
   "outputs": [
    {
     "data": {
      "text/plain": [
       "array(['single', 'available', 'seeing someone', 'married'], dtype=object)"
      ]
     },
     "execution_count": 59,
     "metadata": {},
     "output_type": "execute_result"
    }
   ],
   "source": [
    "all_data.status.unique()"
   ]
  },
  {
   "cell_type": "code",
   "execution_count": 60,
   "metadata": {},
   "outputs": [
    {
     "data": {
      "text/plain": [
       "<matplotlib.collections.PathCollection at 0x1a226085c0>"
      ]
     },
     "execution_count": 60,
     "metadata": {},
     "output_type": "execute_result"
    },
    {
     "data": {
      "image/png": "[encoded data removed]",
      "text/plain": [
       "<Figure size 1440x144 with 1 Axes>"
      ]
     },
     "metadata": {
      "needs_background": "light"
     },
     "output_type": "display_data"
    }
   ],
   "source": [
    "plt.figure(figsize=(20,2))\n",
    "plt.scatter(all_data.income, all_data.sex, alpha=0.02)"
   ]
  },
  {
   "cell_type": "code",
   "execution_count": 61,
   "metadata": {},
   "outputs": [
    {
     "data": {
      "text/plain": [
       "<matplotlib.collections.PathCollection at 0x1a2261e6d8>"
      ]
     },
     "execution_count": 61,
     "metadata": {},
     "output_type": "execute_result"
    },
    {
     "data": {
      "image/png": "[encoded data removed]",
      "text/plain": [
       "<Figure size 1440x648 with 1 Axes>"
      ]
     },
     "metadata": {
      "needs_background": "light"
     },
     "output_type": "display_data"
    }
   ],
   "source": [
    "plt.figure(figsize=(20,9))\n",
    "\n",
    "plt.scatter(all_data.income, all_data.education, alpha=0.1)"
   ]
  },
  {
   "cell_type": "code",
   "execution_count": 62,
   "metadata": {},
   "outputs": [
    {
     "data": {
      "text/plain": [
       "<matplotlib.axes._subplots.AxesSubplot at 0x1a244f6a90>"
      ]
     },
     "execution_count": 62,
     "metadata": {},
     "output_type": "execute_result"
    },
    {
     "data": {
      "image/png": "[encoded data removed]",
      "text/plain": [
       "<Figure size 432x288 with 1 Axes>"
      ]
     },
     "metadata": {
      "needs_background": "light"
     },
     "output_type": "display_data"
    }
   ],
   "source": [
    "all_data[[\"age\", \"sex\"]].groupby(\"sex\").count().plot(kind = 'bar')"
   ]
  },
  {
   "cell_type": "code",
   "execution_count": 63,
   "metadata": {},
   "outputs": [],
   "source": [
    "import seaborn as sns "
   ]
  },
  {
   "cell_type": "markdown",
   "metadata": {},
   "source": [
    "PREDICTING INCOME WITH SEX AND EDUCATION - KNN "
   ]
  },
  {
   "cell_type": "code",
   "execution_count": 64,
   "metadata": {},
   "outputs": [
    {
     "data": {
      "text/plain": [
       "array(['transportation', 'science / tech / engineering',\n",
       "       'executive / management', 'artistic / musical / writer', 'other',\n",
       "       'unemployed', 'medicine / health', 'sales / marketing / biz dev',\n",
       "       'computer / hardware / software', 'entertainment / media',\n",
       "       'banking / financial / real estate', 'student',\n",
       "       'clerical / administrative', 'construction / craftsmanship',\n",
       "       'education / academia', 'military', 'law / legal services',\n",
       "       'political / government', 'rather not say', 'hospitality / travel',\n",
       "       'retired'], dtype=object)"
      ]
     },
     "execution_count": 64,
     "metadata": {},
     "output_type": "execute_result"
    }
   ],
   "source": [
    "all_data.job.unique()"
   ]
  },
  {
   "cell_type": "code",
   "execution_count": 65,
   "metadata": {},
   "outputs": [
    {
     "name": "stderr",
     "output_type": "stream",
     "text": [
      "/anaconda3/lib/python3.7/site-packages/ipykernel_launcher.py:2: SettingWithCopyWarning: \n",
      "A value is trying to be set on a copy of a slice from a DataFrame.\n",
      "Try using .loc[row_indexer,col_indexer] = value instead\n",
      "\n",
      "See the caveats in the documentation: http://pandas.pydata.org/pandas-docs/stable/indexing.html#indexing-view-versus-copy\n",
      "  \n"
     ]
    }
   ],
   "source": [
    "status_mapping = {\"single\": 0, \"available\": 1, \"seeing someone\": 2, \"married\": 3}\n",
    "all_data[\"status_code\"] = all_data.status.map(status_mapping)"
   ]
  },
  {
   "cell_type": "code",
   "execution_count": 66,
   "metadata": {},
   "outputs": [
    {
     "name": "stderr",
     "output_type": "stream",
     "text": [
      "/anaconda3/lib/python3.7/site-packages/ipykernel_launcher.py:22: SettingWithCopyWarning: \n",
      "A value is trying to be set on a copy of a slice from a DataFrame.\n",
      "Try using .loc[row_indexer,col_indexer] = value instead\n",
      "\n",
      "See the caveats in the documentation: http://pandas.pydata.org/pandas-docs/stable/indexing.html#indexing-view-versus-copy\n"
     ]
    }
   ],
   "source": [
    "job_mapping = {'transportation':0, \n",
    "               'science / tech / engineering': 1, \n",
    "               'executive / management':2, \n",
    "               'artistic / musical / writer':19, \n",
    "               'other':3, \n",
    "               'unemployed':4, \n",
    "               'medicine / health':5, \n",
    "               'sales / marketing / biz dev':6,\n",
    "               'computer / hardware / software':7, \n",
    "               'entertainment / media':8, \n",
    "               'banking / financial / real estate':9, \n",
    "               'student':10,\n",
    "               'clerical / administrative':11, \n",
    "               'construction / craftsmanship':12,\n",
    "                'education / academia':13, \n",
    "                'military':14, \n",
    "               'law / legal services':15,\n",
    "                'political / government':16, \n",
    "               'rather not say':17, \n",
    "               'hospitality / travel':18,\n",
    "               'retired':20}\n",
    "all_data[\"job_code\"] = all_data.job.map(job_mapping)"
   ]
  },
  {
   "cell_type": "code",
   "execution_count": 67,
   "metadata": {},
   "outputs": [
    {
     "name": "stdout",
     "output_type": "stream",
     "text": [
      "'asian, white' : 0,\n",
      "'white' : 1,\n",
      "'asian' : 2,\n",
      "'black, native american, hispanic / latin' : 3,\n",
      "'hispanic / latin, white' : 4,\n",
      "'hispanic / latin' : 5,\n",
      "'indian' : 6,\n",
      "'native american, white' : 7,\n",
      "'other' : 8,\n",
      "'asian, pacific islander' : 9,\n",
      "'white, other' : 10,\n",
      "'native american, white, other' : 11,\n",
      "'pacific islander' : 12,\n",
      "'black' : 13,\n",
      "'middle eastern' : 14,\n",
      "'black, hispanic / latin' : 15,\n",
      "'asian, black, white' : 16,\n",
      "'asian, pacific islander, white' : 17,\n",
      "'indian, white' : 18,\n",
      "'black, white, other' : 19,\n",
      "'black, white' : 20,\n",
      "'middle eastern, white' : 21,\n",
      "'indian, hispanic / latin' : 22,\n",
      "'pacific islander, hispanic / latin, white' : 23,\n",
      "'asian, pacific islander, other' : 24,\n",
      "'black, hispanic / latin, white' : 25,\n",
      "'asian, black, native american' : 26,\n",
      "'native american, pacific islander, hispanic / latin, white, other' : 27,\n",
      "'black, native american, white' : 28,\n",
      "'black, other' : 29,\n",
      "'asian, indian' : 30,\n",
      "'asian, middle eastern, black, native american, indian, pacific islander, hispanic / latin, white, other' : 31,\n",
      "'asian, middle eastern' : 32,\n",
      "'middle eastern, black, native american, indian, white, other' : 33,\n",
      "'middle eastern, hispanic / latin' : 34,\n",
      "'hispanic / latin, white, other' : 35,\n",
      "'asian, white, other' : 36,\n",
      "'pacific islander, hispanic / latin, white, other' : 37,\n",
      "'asian, hispanic / latin, white' : 38,\n",
      "'pacific islander, white' : 39,\n",
      "'middle eastern, white, other' : 40,\n",
      "'middle eastern, black, white' : 41,\n",
      "'asian, hispanic / latin, white, other' : 42,\n",
      "'asian, native american, white' : 43,\n",
      "'middle eastern, hispanic / latin, white, other' : 44,\n",
      "'asian, middle eastern, native american, hispanic / latin, white' : 45,\n",
      "'native american, hispanic / latin' : 46,\n",
      "'black, indian' : 47,\n",
      "'asian, middle eastern, white' : 48,\n",
      "'asian, hispanic / latin, other' : 49,\n",
      "'hispanic / latin, other' : 50,\n",
      "'black, native american' : 51,\n",
      "'asian, other' : 52,\n",
      "'middle eastern, black, native american, indian, hispanic / latin, white' : 53,\n",
      "'native american, hispanic / latin, other' : 54,\n",
      "'black, native american, hispanic / latin, white' : 55,\n",
      "'middle eastern, black, native american, white' : 56,\n",
      "'native american, other' : 57,\n",
      "'asian, black' : 58,\n",
      "'native american, hispanic / latin, white' : 59,\n",
      "'native american, hispanic / latin, white, other' : 60,\n",
      "'native american' : 61,\n",
      "'asian, pacific islander, hispanic / latin, white' : 62,\n",
      "'pacific islander, white, other' : 63,\n",
      "'asian, black, native american, pacific islander, white' : 64,\n",
      "'asian, pacific islander, hispanic / latin, other' : 65,\n",
      "'black, indian, white' : 66,\n",
      "'asian, indian, other' : 67,\n",
      "'pacific islander, other' : 68,\n",
      "'pacific islander, hispanic / latin' : 69,\n",
      "'middle eastern, indian, other' : 70,\n",
      "'black, native american, pacific islander, white, other' : 71,\n",
      "'black, pacific islander' : 72,\n",
      "'middle eastern, indian, white, other' : 73,\n",
      "'middle eastern, native american, hispanic / latin, white' : 74,\n",
      "'asian, hispanic / latin' : 75,\n",
      "'asian, black, hispanic / latin, other' : 76,\n",
      "'middle eastern, native american, hispanic / latin, white, other' : 77,\n",
      "'indian, pacific islander' : 78,\n",
      "'indian, other' : 79,\n",
      "'middle eastern, hispanic / latin, other' : 80,\n",
      "'black, native american, white, other' : 81,\n",
      "'black, native american, indian, white, other' : 82,\n",
      "'asian, indian, pacific islander, other' : 83,\n",
      "'black, native american, hispanic / latin, other' : 84,\n",
      "'black, pacific islander, hispanic / latin' : 85,\n",
      "'middle eastern, other' : 86,\n",
      "'asian, middle eastern, black, native american, indian, pacific islander, hispanic / latin, other' : 87,\n",
      "'middle eastern, hispanic / latin, white' : 88,\n",
      "'black, native american, other' : 89,\n",
      "'middle eastern, native american, white' : 90,\n",
      "'asian, pacific islander, white, other' : 91,\n",
      "'indian, hispanic / latin, other' : 92,\n",
      "'middle eastern, black' : 93,\n",
      "'asian, native american, white, other' : 94,\n",
      "'asian, middle eastern, native american, pacific islander, white, other' : 95,\n",
      "'asian, native american, pacific islander' : 96,\n",
      "'asian, native american, indian, pacific islander, hispanic / latin, white, other' : 97,\n",
      "'asian, black, pacific islander, white, other' : 98,\n",
      "'black, native american, hispanic / latin, white, other' : 99,\n",
      "'indian, white, other' : 100,\n",
      "'native american, pacific islander' : 101,\n",
      "'asian, black, pacific islander, hispanic / latin' : 102,\n",
      "'asian, middle eastern, black, native american, indian, pacific islander, hispanic / latin, white' : 103,\n",
      "'asian, black, indian' : 104,\n"
     ]
    }
   ],
   "source": [
    "n = 0\n",
    "for i in all_data.ethnicity.unique():\n",
    "    print(\"'\" + i +\"'\" + ' : ' + str(n)+',')\n",
    "    n = n + 1"
   ]
  },
  {
   "cell_type": "code",
   "execution_count": 68,
   "metadata": {},
   "outputs": [
    {
     "name": "stderr",
     "output_type": "stream",
     "text": [
      "/anaconda3/lib/python3.7/site-packages/ipykernel_launcher.py:84: SettingWithCopyWarning: \n",
      "A value is trying to be set on a copy of a slice from a DataFrame.\n",
      "Try using .loc[row_indexer,col_indexer] = value instead\n",
      "\n",
      "See the caveats in the documentation: http://pandas.pydata.org/pandas-docs/stable/indexing.html#indexing-view-versus-copy\n"
     ]
    }
   ],
   "source": [
    "location_mapping = {'south san francisco, california' : 0,\n",
    "'san francisco, california' : 1,\n",
    "'menlo park, california' : 2,\n",
    "'vallejo, california' : 3,\n",
    "'benicia, california' : 4,\n",
    "'berkeley, california' : 5,\n",
    "'walnut creek, california' : 6,\n",
    "'oakland, california' : 7,\n",
    "'lafayette, california' : 8,\n",
    "'san mateo, california' : 9,\n",
    "'san rafael, california' : 10,\n",
    "'redwood city, california' : 11,\n",
    "'mill valley, california' : 12,\n",
    "'hayward, california' : 13,\n",
    "'sausalito, california' : 14,\n",
    "'san leandro, california' : 15,\n",
    "'moraga, california' : 16,\n",
    "'albany, california' : 17,\n",
    "'martinez, california' : 18,\n",
    "'alameda, california' : 19,\n",
    "'palo alto, california' : 20,\n",
    "'crockett, california' : 21,\n",
    "'stanford, california' : 22,\n",
    "'fairfax, california' : 23,\n",
    "'pleasant hill, california' : 24,\n",
    "'half moon bay, california' : 25,\n",
    "'emeryville, california' : 26,\n",
    "'el sobrante, california' : 27,\n",
    "'el cerrito, california' : 28,\n",
    "'pacifica, california' : 29,\n",
    "'corte madera, california' : 30,\n",
    "'green brae, california' : 31,\n",
    "'novato, california' : 32,\n",
    "'hercules, california' : 33,\n",
    "'belmont, california' : 34,\n",
    "'mountain view, california' : 35,\n",
    "'millbrae, california' : 36,\n",
    "'castro valley, california' : 37,\n",
    "'san bruno, california' : 38,\n",
    "'daly city, california' : 39,\n",
    "'san carlos, california' : 40,\n",
    "'richmond, california' : 41,\n",
    "'larkspur, california' : 42,\n",
    "'hacienda heights, california' : 43,\n",
    "'burlingame, california' : 44,\n",
    "'woodacre, california' : 45,\n",
    "'san lorenzo, california' : 46,\n",
    "'rohnert park, california' : 47,\n",
    "'ross, california' : 48,\n",
    "'belvedere tiburon, california' : 49,\n",
    "'san anselmo, california' : 50,\n",
    "'kentfield, california' : 51,\n",
    "'san pablo, california' : 52,\n",
    "'foster city, california' : 53,\n",
    "'pinole, california' : 54,\n",
    "'brisbane, california' : 55,\n",
    "'kensington, california' : 56,\n",
    "'rodeo, california' : 57,\n",
    "'montara, california' : 58,\n",
    "'el granada, california' : 59,\n",
    "'lake orion, michigan' : 60,\n",
    "'atherton, california' : 61,\n",
    "'ozone park, new york' : 62,\n",
    "'fremont, california' : 63,\n",
    "'orinda, california' : 64,\n",
    "'bayshore, california' : 65,\n",
    "'piedmont, california' : 66,\n",
    "'westlake, california' : 67,\n",
    "'granite bay, california' : 68,\n",
    "'los gatos, california' : 69,\n",
    "'santa rosa, california' : 70,\n",
    "'new york, new york' : 71,\n",
    "'tucson, arizona' : 72,\n",
    "'stockton, california' : 73,\n",
    "'san geronimo, california' : 74,\n",
    "'east palo alto, california' : 75,\n",
    "'waterford, california' : 76,\n",
    "'moss beach, california' : 77,\n",
    "'washington, district of columbia' : 78,\n",
    "'san luis obispo, california' : 79,\n",
    "'modesto, california' : 80,\n",
    "'miami, florida' : 81,\n",
    "'cincinnati, ohio' : 82}\n",
    "all_data[\"location_code\"] = all_data.location.map(location_mapping)"
   ]
  },
  {
   "cell_type": "code",
   "execution_count": 69,
   "metadata": {},
   "outputs": [
    {
     "name": "stderr",
     "output_type": "stream",
     "text": [
      "/anaconda3/lib/python3.7/site-packages/ipykernel_launcher.py:106: SettingWithCopyWarning: \n",
      "A value is trying to be set on a copy of a slice from a DataFrame.\n",
      "Try using .loc[row_indexer,col_indexer] = value instead\n",
      "\n",
      "See the caveats in the documentation: http://pandas.pydata.org/pandas-docs/stable/indexing.html#indexing-view-versus-copy\n"
     ]
    }
   ],
   "source": [
    "ethnicity_mapping = {'asian, white' : 0,\n",
    "'white' : 1,\n",
    "'asian' : 2,\n",
    "'black, native american, hispanic / latin' : 3,\n",
    "'hispanic / latin, white' : 4,\n",
    "'hispanic / latin' : 5,\n",
    "'indian' : 6,\n",
    "'native american, white' : 7,\n",
    "'other' : 8,\n",
    "'asian, pacific islander' : 9,\n",
    "'white, other' : 10,\n",
    "'native american, white, other' : 11,\n",
    "'pacific islander' : 12,\n",
    "'black' : 13,\n",
    "'middle eastern' : 14,\n",
    "'black, hispanic / latin' : 15,\n",
    "'asian, black, white' : 16,\n",
    "'asian, pacific islander, white' : 17,\n",
    "'indian, white' : 18,\n",
    "'black, white, other' : 19,\n",
    "'black, white' : 20,\n",
    "'middle eastern, white' : 21,\n",
    "'indian, hispanic / latin' : 22,\n",
    "'pacific islander, hispanic / latin, white' : 23,\n",
    "'asian, pacific islander, other' : 24,\n",
    "'black, hispanic / latin, white' : 25,\n",
    "'asian, black, native american' : 26,\n",
    "'native american, pacific islander, hispanic / latin, white, other' : 27,\n",
    "'black, native american, white' : 28,\n",
    "'black, other' : 29,\n",
    "'asian, indian' : 30,\n",
    "'asian, middle eastern, black, native american, indian, pacific islander, hispanic / latin, white, other' : 31,\n",
    "'asian, middle eastern' : 32,\n",
    "'middle eastern, black, native american, indian, white, other' : 33,\n",
    "'middle eastern, hispanic / latin' : 34,\n",
    "'hispanic / latin, white, other' : 35,\n",
    "'asian, white, other' : 36,\n",
    "'pacific islander, hispanic / latin, white, other' : 37,\n",
    "'asian, hispanic / latin, white' : 38,\n",
    "'pacific islander, white' : 39,\n",
    "'middle eastern, white, other' : 40,\n",
    "'middle eastern, black, white' : 41,\n",
    "'asian, hispanic / latin, white, other' : 42,\n",
    "'asian, native american, white' : 43,\n",
    "'middle eastern, hispanic / latin, white, other' : 44,\n",
    "'asian, middle eastern, native american, hispanic / latin, white' : 45,\n",
    "'native american, hispanic / latin' : 46,\n",
    "'black, indian' : 47,\n",
    "'asian, middle eastern, white' : 48,\n",
    "'asian, hispanic / latin, other' : 49,\n",
    "'hispanic / latin, other' : 50,\n",
    "'black, native american' : 51,\n",
    "'asian, other' : 52,\n",
    "'middle eastern, black, native american, indian, hispanic / latin, white' : 53,\n",
    "'native american, hispanic / latin, other' : 54,\n",
    "'black, native american, hispanic / latin, white' : 55,\n",
    "'middle eastern, black, native american, white' : 56,\n",
    "'native american, other' : 57,\n",
    "'asian, black' : 58,\n",
    "'native american, hispanic / latin, white' : 59,\n",
    "'native american, hispanic / latin, white, other' : 60,\n",
    "'native american' : 61,\n",
    "'asian, pacific islander, hispanic / latin, white' : 62,\n",
    "'pacific islander, white, other' : 63,\n",
    "'asian, black, native american, pacific islander, white' : 64,\n",
    "'asian, pacific islander, hispanic / latin, other' : 65,\n",
    "'black, indian, white' : 66,\n",
    "'asian, indian, other' : 67,\n",
    "'pacific islander, other' : 68,\n",
    "'pacific islander, hispanic / latin' : 69,\n",
    "'middle eastern, indian, other' : 70,\n",
    "'black, native american, pacific islander, white, other' : 71,\n",
    "'black, pacific islander' : 72,\n",
    "'middle eastern, indian, white, other' : 73,\n",
    "'middle eastern, native american, hispanic / latin, white' : 74,\n",
    "'asian, hispanic / latin' : 75,\n",
    "'asian, black, hispanic / latin, other' : 76,\n",
    "'middle eastern, native american, hispanic / latin, white, other' : 77,\n",
    "'indian, pacific islander' : 78,\n",
    "'indian, other' : 79,\n",
    "'middle eastern, hispanic / latin, other' : 80,\n",
    "'black, native american, white, other' : 81,\n",
    "'black, native american, indian, white, other' : 82,\n",
    "'asian, indian, pacific islander, other' : 83,\n",
    "'black, native american, hispanic / latin, other' : 84,\n",
    "'black, pacific islander, hispanic / latin' : 85,\n",
    "'middle eastern, other' : 86,\n",
    "'asian, middle eastern, black, native american, indian, pacific islander, hispanic / latin, other' : 87,\n",
    "'middle eastern, hispanic / latin, white' : 88,\n",
    "'black, native american, other' : 89,\n",
    "'middle eastern, native american, white' : 90,\n",
    "'asian, pacific islander, white, other' : 91,\n",
    "'indian, hispanic / latin, other' : 92,\n",
    "'middle eastern, black' : 93,\n",
    "'asian, native american, white, other' : 94,\n",
    "'asian, middle eastern, native american, pacific islander, white, other' : 95,\n",
    "'asian, native american, pacific islander' : 96,\n",
    "'asian, native american, indian, pacific islander, hispanic / latin, white, other' : 97,\n",
    "'asian, black, pacific islander, white, other' : 98,\n",
    "'black, native american, hispanic / latin, white, other' : 99,\n",
    "'indian, white, other' : 100,\n",
    "'native american, pacific islander' : 101,\n",
    "'asian, black, pacific islander, hispanic / latin' : 102,\n",
    "'asian, middle eastern, black, native american, indian, pacific islander, hispanic / latin, white' : 103,\n",
    "'asian, black, indian' : 104}\n",
    "all_data[\"ethnicity_code\"] = all_data.ethnicity.map(ethnicity_mapping)"
   ]
  },
  {
   "cell_type": "code",
   "execution_count": 70,
   "metadata": {},
   "outputs": [],
   "source": [
    "income_features = all_data[['education_code', 'sex_code', 'job_code', 'age', 'ethnicity_code']].loc[all_data['income']!= -1]"
   ]
  },
  {
   "cell_type": "code",
   "execution_count": 71,
   "metadata": {},
   "outputs": [],
   "source": [
    "i= income_features.values\n",
    "min_max_scaler = MinMaxScaler()\n",
    "i_scaled = min_max_scaler.fit_transform(i)\n",
    "\n",
    "\n",
    "income_features = pd.DataFrame(i_scaled, columns=income_features.columns)"
   ]
  },
  {
   "cell_type": "code",
   "execution_count": 72,
   "metadata": {},
   "outputs": [
    {
     "data": {
      "text/plain": [
       "0.29138321995464855"
      ]
     },
     "execution_count": 72,
     "metadata": {},
     "output_type": "execute_result"
    }
   ],
   "source": [
    "income_kn = KNeighborsClassifier(n_neighbors=48)\n",
    "income_kn.fit(x_train, y_train)\n",
    "income_pred = income_kn.predict(x_test)\n",
    "accuracy_score(y_test, income_pred)"
   ]
  },
  {
   "cell_type": "code",
   "execution_count": 73,
   "metadata": {},
   "outputs": [
    {
     "name": "stdout",
     "output_type": "stream",
     "text": [
      "                                                     precision    recall  f1-score   support\n",
      "\n",
      "                            doesn&rsquo;t have kids       0.36      0.57      0.44       222\n",
      "doesn&rsquo;t have kids, and doesn&rsquo;t want any       0.00      0.00      0.00        66\n",
      "       doesn&rsquo;t have kids, but might want them       0.26      0.28      0.27       210\n",
      "            doesn&rsquo;t have kids, but wants them       0.27      0.30      0.28       145\n",
      "                            doesn&rsquo;t want kids       0.07      0.01      0.02        81\n",
      "                                          has a kid       0.21      0.11      0.14        46\n",
      "                     has a kid, and might want more       0.00      0.00      0.00        11\n",
      "                          has a kid, and wants more       0.00      0.00      0.00         2\n",
      "             has a kid, but doesn&rsquo;t want more       0.00      0.00      0.00        14\n",
      "                                           has kids       0.21      0.51      0.30        41\n",
      "                      has kids, and might want more       0.00      0.00      0.00         3\n",
      "                           has kids, and wants more       0.00      0.00      0.00         4\n",
      "              has kids, but doesn&rsquo;t want more       0.00      0.00      0.00        22\n",
      "                                    might want kids       0.00      0.00      0.00        10\n",
      "                                         wants kids       0.00      0.00      0.00         5\n",
      "\n",
      "                                        avg / total       0.22      0.29      0.25       882\n",
      "\n"
     ]
    },
    {
     "name": "stderr",
     "output_type": "stream",
     "text": [
      "/anaconda3/lib/python3.7/site-packages/sklearn/metrics/classification.py:1135: UndefinedMetricWarning: Precision and F-score are ill-defined and being set to 0.0 in labels with no predicted samples.\n",
      "  'precision', 'predicted', average, warn_for)\n"
     ]
    }
   ],
   "source": [
    "accuracy_score(income_pred, y_test)\n",
    "print(classification_report(y_test, income_pred))"
   ]
  },
  {
   "cell_type": "code",
   "execution_count": 74,
   "metadata": {},
   "outputs": [],
   "source": [
    "naive = GaussianNB()"
   ]
  },
  {
   "cell_type": "code",
   "execution_count": 75,
   "metadata": {},
   "outputs": [],
   "source": [
    "naive_pred_income = naive.fit(x_train, y_train).predict(x_test)"
   ]
  },
  {
   "cell_type": "code",
   "execution_count": 76,
   "metadata": {},
   "outputs": [
    {
     "data": {
      "text/plain": [
       "0.2471655328798186"
      ]
     },
     "execution_count": 76,
     "metadata": {},
     "output_type": "execute_result"
    }
   ],
   "source": [
    "naive.score(x_test, y_test)"
   ]
  },
  {
   "cell_type": "code",
   "execution_count": 77,
   "metadata": {},
   "outputs": [
    {
     "data": {
      "text/plain": [
       "0.2471655328798186"
      ]
     },
     "execution_count": 77,
     "metadata": {},
     "output_type": "execute_result"
    }
   ],
   "source": [
    "accuracy_score(naive_pred_income, y_test)"
   ]
  },
  {
   "cell_type": "markdown",
   "metadata": {},
   "source": [
    "\n",
    "### PREDICTING WITH SUPPORT VECTORS###"
   ]
  },
  {
   "cell_type": "code",
   "execution_count": 78,
   "metadata": {},
   "outputs": [],
   "source": [
    "income_svc=SVC()"
   ]
  },
  {
   "cell_type": "code",
   "execution_count": 79,
   "metadata": {},
   "outputs": [
    {
     "data": {
      "text/plain": [
       "94       40000\n",
       "113      20000\n",
       "123    1000000\n",
       "137      80000\n",
       "167      20000\n",
       "Name: income, dtype: int64"
      ]
     },
     "execution_count": 79,
     "metadata": {},
     "output_type": "execute_result"
    }
   ],
   "source": [
    "all_data.income.loc[all_data['income'] != -1].head()\n"
   ]
  },
  {
   "cell_type": "code",
   "execution_count": 80,
   "metadata": {},
   "outputs": [
    {
     "data": {
      "text/plain": [
       "SVC(C=1.0, cache_size=200, class_weight=None, coef0=0.0,\n",
       "  decision_function_shape='ovr', degree=3, gamma='auto', kernel='rbf',\n",
       "  max_iter=-1, probability=False, random_state=None, shrinking=True,\n",
       "  tol=0.001, verbose=False)"
      ]
     },
     "execution_count": 80,
     "metadata": {},
     "output_type": "execute_result"
    }
   ],
   "source": [
    "income_svc.fit(x_train,y_train)"
   ]
  },
  {
   "cell_type": "code",
   "execution_count": 81,
   "metadata": {},
   "outputs": [],
   "source": [
    "income_pred_svc = income_svc.predict(x_test)"
   ]
  },
  {
   "cell_type": "code",
   "execution_count": 82,
   "metadata": {},
   "outputs": [
    {
     "data": {
      "text/plain": [
       "<matplotlib.collections.PathCollection at 0x1a23c4e5c0>"
      ]
     },
     "execution_count": 82,
     "metadata": {},
     "output_type": "execute_result"
    },
    {
     "data": {
      "image/png": "[encoded data removed]",
      "text/plain": [
       "<Figure size 2880x720 with 1 Axes>"
      ]
     },
     "metadata": {
      "needs_background": "light"
     },
     "output_type": "display_data"
    }
   ],
   "source": [
    "plt.figure(figsize=(40,10))\n",
    "plt.scatter(income_pred_svc, y_test, alpha=0.4, s = 300)"
   ]
  },
  {
   "cell_type": "code",
   "execution_count": 83,
   "metadata": {},
   "outputs": [
    {
     "data": {
      "text/plain": [
       "0.29705215419501135"
      ]
     },
     "execution_count": 83,
     "metadata": {},
     "output_type": "execute_result"
    }
   ],
   "source": [
    "accuracy_score(income_pred_svc, y_test)"
   ]
  },
  {
   "cell_type": "code",
   "execution_count": 84,
   "metadata": {},
   "outputs": [
    {
     "name": "stderr",
     "output_type": "stream",
     "text": [
      "/anaconda3/lib/python3.7/site-packages/sklearn/metrics/classification.py:1135: UndefinedMetricWarning: Precision is ill-defined and being set to 0.0 in labels with no predicted samples.\n",
      "  'precision', 'predicted', average, warn_for)\n"
     ]
    },
    {
     "data": {
      "text/plain": [
       "0.2668558617339008"
      ]
     },
     "execution_count": 84,
     "metadata": {},
     "output_type": "execute_result"
    }
   ],
   "source": [
    "metrics.precision_score(y_test, income_pred_svc, average = 'weighted')"
   ]
  },
  {
   "cell_type": "code",
   "execution_count": 85,
   "metadata": {},
   "outputs": [
    {
     "data": {
      "text/plain": [
       "0.29705215419501135"
      ]
     },
     "execution_count": 85,
     "metadata": {},
     "output_type": "execute_result"
    }
   ],
   "source": [
    "metrics.recall_score(y_test, income_pred_svc, average = 'weighted')"
   ]
  },
  {
   "cell_type": "code",
   "execution_count": 86,
   "metadata": {},
   "outputs": [
    {
     "data": {
      "text/plain": [
       "0.29705215419501135"
      ]
     },
     "execution_count": 86,
     "metadata": {},
     "output_type": "execute_result"
    }
   ],
   "source": [
    "income_svc.score(x_test, y_test)"
   ]
  },
  {
   "cell_type": "code",
   "execution_count": 87,
   "metadata": {},
   "outputs": [
    {
     "name": "stdout",
     "output_type": "stream",
     "text": [
      "                                                     precision    recall  f1-score   support\n",
      "\n",
      "                            doesn&rsquo;t have kids       0.34      0.62      0.44       222\n",
      "doesn&rsquo;t have kids, and doesn&rsquo;t want any       0.33      0.02      0.03        66\n",
      "       doesn&rsquo;t have kids, but might want them       0.28      0.24      0.26       210\n",
      "            doesn&rsquo;t have kids, but wants them       0.28      0.30      0.29       145\n",
      "                            doesn&rsquo;t want kids       0.19      0.06      0.09        81\n",
      "                                          has a kid       0.29      0.11      0.16        46\n",
      "                     has a kid, and might want more       0.00      0.00      0.00        11\n",
      "                          has a kid, and wants more       0.00      0.00      0.00         2\n",
      "             has a kid, but doesn&rsquo;t want more       0.00      0.00      0.00        14\n",
      "                                           has kids       0.20      0.49      0.29        41\n",
      "                      has kids, and might want more       0.00      0.00      0.00         3\n",
      "                           has kids, and wants more       0.00      0.00      0.00         4\n",
      "              has kids, but doesn&rsquo;t want more       0.00      0.00      0.00        22\n",
      "                                    might want kids       0.00      0.00      0.00        10\n",
      "                                         wants kids       0.00      0.00      0.00         5\n",
      "\n",
      "                                        avg / total       0.27      0.30      0.25       882\n",
      "\n"
     ]
    },
    {
     "name": "stderr",
     "output_type": "stream",
     "text": [
      "/anaconda3/lib/python3.7/site-packages/sklearn/metrics/classification.py:1135: UndefinedMetricWarning: Precision and F-score are ill-defined and being set to 0.0 in labels with no predicted samples.\n",
      "  'precision', 'predicted', average, warn_for)\n"
     ]
    }
   ],
   "source": [
    "from sklearn.metrics import classification_report\n",
    "print(classification_report(y_test, income_pred_svc))"
   ]
  },
  {
   "cell_type": "markdown",
   "metadata": {},
   "source": [
    "#### "
   ]
  },
  {
   "cell_type": "code",
   "execution_count": 88,
   "metadata": {},
   "outputs": [],
   "source": [
    "kn_edu = KNeighborsClassifier()\n",
    "naive_edu = GaussianNB()\n",
    "svc_edu = SVC()\n",
    "\n",
    "x_train, x_test, y_train, y_test = train_test_split(all_data.essay_len.values.reshape(-1,1) ,all_data.education_code ,test_size = 0.2, random_state = 12)\n"
   ]
  },
  {
   "cell_type": "code",
   "execution_count": 89,
   "metadata": {},
   "outputs": [
    {
     "data": {
      "text/plain": [
       "KNeighborsClassifier(algorithm='auto', leaf_size=30, metric='minkowski',\n",
       "           metric_params=None, n_jobs=1, n_neighbors=5, p=2,\n",
       "           weights='uniform')"
      ]
     },
     "execution_count": 89,
     "metadata": {},
     "output_type": "execute_result"
    }
   ],
   "source": [
    "kn_edu.fit(x_train, y_train)"
   ]
  },
  {
   "cell_type": "code",
   "execution_count": 90,
   "metadata": {},
   "outputs": [],
   "source": [
    "kn_edu_predict = kn_edu.predict(x_test)"
   ]
  },
  {
   "cell_type": "code",
   "execution_count": 91,
   "metadata": {},
   "outputs": [
    {
     "data": {
      "text/plain": [
       "0.29138321995464855"
      ]
     },
     "execution_count": 91,
     "metadata": {},
     "output_type": "execute_result"
    }
   ],
   "source": [
    "accuracy_score(kn_edu_predict, y_test)"
   ]
  },
  {
   "cell_type": "code",
   "execution_count": 92,
   "metadata": {},
   "outputs": [
    {
     "name": "stderr",
     "output_type": "stream",
     "text": [
      "/anaconda3/lib/python3.7/site-packages/sklearn/metrics/classification.py:1135: UndefinedMetricWarning: Precision is ill-defined and being set to 0.0 in labels with no predicted samples.\n",
      "  'precision', 'predicted', average, warn_for)\n"
     ]
    },
    {
     "data": {
      "text/plain": [
       "0.21197689715761361"
      ]
     },
     "execution_count": 92,
     "metadata": {},
     "output_type": "execute_result"
    }
   ],
   "source": [
    "metrics.precision_score(y_test, kn_edu_predict, average = 'weighted')"
   ]
  },
  {
   "cell_type": "code",
   "execution_count": 93,
   "metadata": {},
   "outputs": [
    {
     "data": {
      "text/plain": [
       "0.29138321995464855"
      ]
     },
     "execution_count": 93,
     "metadata": {},
     "output_type": "execute_result"
    }
   ],
   "source": [
    "metrics.recall_score(y_test, kn_edu_predict, average = 'weighted')"
   ]
  },
  {
   "cell_type": "code",
   "execution_count": 94,
   "metadata": {},
   "outputs": [],
   "source": [
    "naive_edu_predict = naive_edu.fit(x_train, y_train).predict(x_test)"
   ]
  },
  {
   "cell_type": "code",
   "execution_count": 95,
   "metadata": {},
   "outputs": [
    {
     "data": {
      "text/plain": [
       "0.3786848072562358"
      ]
     },
     "execution_count": 95,
     "metadata": {},
     "output_type": "execute_result"
    }
   ],
   "source": [
    "accuracy_score(naive_edu_predict, y_test)"
   ]
  },
  {
   "cell_type": "code",
   "execution_count": 96,
   "metadata": {},
   "outputs": [
    {
     "data": {
      "text/plain": [
       "0.3786848072562358"
      ]
     },
     "execution_count": 96,
     "metadata": {},
     "output_type": "execute_result"
    }
   ],
   "source": [
    "metrics.recall_score(y_test, naive_edu_predict, average = 'weighted')"
   ]
  },
  {
   "cell_type": "code",
   "execution_count": 97,
   "metadata": {},
   "outputs": [
    {
     "name": "stderr",
     "output_type": "stream",
     "text": [
      "/anaconda3/lib/python3.7/site-packages/sklearn/metrics/classification.py:1135: UndefinedMetricWarning: Precision is ill-defined and being set to 0.0 in labels with no predicted samples.\n",
      "  'precision', 'predicted', average, warn_for)\n"
     ]
    },
    {
     "data": {
      "text/plain": [
       "0.14356495530486124"
      ]
     },
     "execution_count": 97,
     "metadata": {},
     "output_type": "execute_result"
    }
   ],
   "source": [
    "metrics.precision_score(y_test, naive_edu_predict, average = 'weighted')"
   ]
  },
  {
   "cell_type": "code",
   "execution_count": 98,
   "metadata": {},
   "outputs": [],
   "source": [
    "svc_edu_predict = svc_edu.fit(x_train, y_train).predict(x_test)"
   ]
  },
  {
   "cell_type": "code",
   "execution_count": 99,
   "metadata": {},
   "outputs": [
    {
     "data": {
      "text/plain": [
       "0.3321995464852608"
      ]
     },
     "execution_count": 99,
     "metadata": {},
     "output_type": "execute_result"
    }
   ],
   "source": [
    "accuracy_score(svc_edu_predict, y_test)"
   ]
  },
  {
   "cell_type": "code",
   "execution_count": 100,
   "metadata": {},
   "outputs": [
    {
     "data": {
      "text/plain": [
       "0.3321995464852608"
      ]
     },
     "execution_count": 100,
     "metadata": {},
     "output_type": "execute_result"
    }
   ],
   "source": [
    "metrics.recall_score(y_test, svc_edu_predict, average = 'weighted')"
   ]
  },
  {
   "cell_type": "code",
   "execution_count": 101,
   "metadata": {},
   "outputs": [
    {
     "name": "stderr",
     "output_type": "stream",
     "text": [
      "/anaconda3/lib/python3.7/site-packages/sklearn/metrics/classification.py:1135: UndefinedMetricWarning: Precision is ill-defined and being set to 0.0 in labels with no predicted samples.\n",
      "  'precision', 'predicted', average, warn_for)\n"
     ]
    },
    {
     "data": {
      "text/plain": [
       "0.20623583038174845"
      ]
     },
     "execution_count": 101,
     "metadata": {},
     "output_type": "execute_result"
    }
   ],
   "source": [
    "metrics.precision_score(y_test, svc_edu_predict, average = 'weighted')"
   ]
  },
  {
   "cell_type": "code",
   "execution_count": 102,
   "metadata": {},
   "outputs": [
    {
     "data": {
      "text/plain": [
       "Index(['age', 'body_type', 'diet', 'drinks', 'drugs', 'education', 'essay0',\n",
       "       'essay1', 'essay2', 'essay3', 'essay4', 'essay5', 'essay6', 'essay7',\n",
       "       'essay8', 'essay9', 'ethnicity', 'height', 'income', 'job',\n",
       "       'last_online', 'location', 'offspring', 'orientation', 'pets',\n",
       "       'religion', 'sex', 'sign', 'smokes', 'speaks', 'status', 'drinks_code',\n",
       "       'drugs_code', 'smokes_code', 'essay_len', 'avg_word_length',\n",
       "       'education_code', 'status_code', 'sex_code', 'job_code',\n",
       "       'location_code', 'ethnicity_code'],\n",
       "      dtype='object')"
      ]
     },
     "execution_count": 102,
     "metadata": {},
     "output_type": "execute_result"
    }
   ],
   "source": [
    "all_data.columns"
   ]
  },
  {
   "cell_type": "markdown",
   "metadata": {},
   "source": [
    "## PREDICTING INCOME WITH ESSAY LENGTH AND AVG WORD"
   ]
  },
  {
   "cell_type": "code",
   "execution_count": 103,
   "metadata": {},
   "outputs": [],
   "source": [
    "from sklearn.linear_model import LinearRegression\n",
    "x_train, x_test, y_train, y_test = train_test_split(income_features, all_data.income[all_data['income']!= -1], test_size = 0.2, random_state=10)\n",
    "\n",
    "    \n",
    "lin_inc = LinearRegression()\n",
    "lin_inc_pred = lin_inc.fit(x_train, y_train).predict(x_test)\n",
    "\n"
   ]
  },
  {
   "cell_type": "code",
   "execution_count": null,
   "metadata": {},
   "outputs": [],
   "source": []
  },
  {
   "cell_type": "code",
   "execution_count": 104,
   "metadata": {},
   "outputs": [
    {
     "data": {
      "text/plain": [
       "-0.015933950689877907"
      ]
     },
     "execution_count": 104,
     "metadata": {},
     "output_type": "execute_result"
    }
   ],
   "source": [
    "r2_score(y_test, lin_inc_pred)"
   ]
  },
  {
   "cell_type": "code",
   "execution_count": null,
   "metadata": {},
   "outputs": [],
   "source": []
  },
  {
   "cell_type": "code",
   "execution_count": 107,
   "metadata": {},
   "outputs": [
    {
     "ename": "ValueError",
     "evalue": "Classification metrics can't handle a mix of multiclass and continuous targets",
     "output_type": "error",
     "traceback": [
      "\u001b[0;31m---------------------------------------------------------------------------\u001b[0m",
      "\u001b[0;31mValueError\u001b[0m                                Traceback (most recent call last)",
      "\u001b[0;32m<ipython-input-107-e8b40b59ad58>\u001b[0m in \u001b[0;36m<module>\u001b[0;34m\u001b[0m\n\u001b[0;32m----> 1\u001b[0;31m \u001b[0mmetrics\u001b[0m\u001b[0;34m.\u001b[0m\u001b[0mprecision_score\u001b[0m\u001b[0;34m(\u001b[0m\u001b[0my_test\u001b[0m\u001b[0;34m,\u001b[0m \u001b[0mlin_inc_pred\u001b[0m\u001b[0;34m,\u001b[0m \u001b[0maverage\u001b[0m \u001b[0;34m=\u001b[0m \u001b[0;34m'weighted'\u001b[0m\u001b[0;34m)\u001b[0m\u001b[0;34m\u001b[0m\u001b[0;34m\u001b[0m\u001b[0m\n\u001b[0m",
      "\u001b[0;32m/anaconda3/lib/python3.7/site-packages/sklearn/metrics/classification.py\u001b[0m in \u001b[0;36mprecision_score\u001b[0;34m(y_true, y_pred, labels, pos_label, average, sample_weight)\u001b[0m\n\u001b[1;32m   1259\u001b[0m                                                  \u001b[0maverage\u001b[0m\u001b[0;34m=\u001b[0m\u001b[0maverage\u001b[0m\u001b[0;34m,\u001b[0m\u001b[0;34m\u001b[0m\u001b[0;34m\u001b[0m\u001b[0m\n\u001b[1;32m   1260\u001b[0m                                                  \u001b[0mwarn_for\u001b[0m\u001b[0;34m=\u001b[0m\u001b[0;34m(\u001b[0m\u001b[0;34m'precision'\u001b[0m\u001b[0;34m,\u001b[0m\u001b[0;34m)\u001b[0m\u001b[0;34m,\u001b[0m\u001b[0;34m\u001b[0m\u001b[0;34m\u001b[0m\u001b[0m\n\u001b[0;32m-> 1261\u001b[0;31m                                                  sample_weight=sample_weight)\n\u001b[0m\u001b[1;32m   1262\u001b[0m     \u001b[0;32mreturn\u001b[0m \u001b[0mp\u001b[0m\u001b[0;34m\u001b[0m\u001b[0;34m\u001b[0m\u001b[0m\n\u001b[1;32m   1263\u001b[0m \u001b[0;34m\u001b[0m\u001b[0m\n",
      "\u001b[0;32m/anaconda3/lib/python3.7/site-packages/sklearn/metrics/classification.py\u001b[0m in \u001b[0;36mprecision_recall_fscore_support\u001b[0;34m(y_true, y_pred, beta, labels, pos_label, average, warn_for, sample_weight)\u001b[0m\n\u001b[1;32m   1023\u001b[0m         \u001b[0;32mraise\u001b[0m \u001b[0mValueError\u001b[0m\u001b[0;34m(\u001b[0m\u001b[0;34m\"beta should be >0 in the F-beta score\"\u001b[0m\u001b[0;34m)\u001b[0m\u001b[0;34m\u001b[0m\u001b[0;34m\u001b[0m\u001b[0m\n\u001b[1;32m   1024\u001b[0m \u001b[0;34m\u001b[0m\u001b[0m\n\u001b[0;32m-> 1025\u001b[0;31m     \u001b[0my_type\u001b[0m\u001b[0;34m,\u001b[0m \u001b[0my_true\u001b[0m\u001b[0;34m,\u001b[0m \u001b[0my_pred\u001b[0m \u001b[0;34m=\u001b[0m \u001b[0m_check_targets\u001b[0m\u001b[0;34m(\u001b[0m\u001b[0my_true\u001b[0m\u001b[0;34m,\u001b[0m \u001b[0my_pred\u001b[0m\u001b[0;34m)\u001b[0m\u001b[0;34m\u001b[0m\u001b[0;34m\u001b[0m\u001b[0m\n\u001b[0m\u001b[1;32m   1026\u001b[0m     \u001b[0mpresent_labels\u001b[0m \u001b[0;34m=\u001b[0m \u001b[0munique_labels\u001b[0m\u001b[0;34m(\u001b[0m\u001b[0my_true\u001b[0m\u001b[0;34m,\u001b[0m \u001b[0my_pred\u001b[0m\u001b[0;34m)\u001b[0m\u001b[0;34m\u001b[0m\u001b[0;34m\u001b[0m\u001b[0m\n\u001b[1;32m   1027\u001b[0m \u001b[0;34m\u001b[0m\u001b[0m\n",
      "\u001b[0;32m/anaconda3/lib/python3.7/site-packages/sklearn/metrics/classification.py\u001b[0m in \u001b[0;36m_check_targets\u001b[0;34m(y_true, y_pred)\u001b[0m\n\u001b[1;32m     79\u001b[0m     \u001b[0;32mif\u001b[0m \u001b[0mlen\u001b[0m\u001b[0;34m(\u001b[0m\u001b[0my_type\u001b[0m\u001b[0;34m)\u001b[0m \u001b[0;34m>\u001b[0m \u001b[0;36m1\u001b[0m\u001b[0;34m:\u001b[0m\u001b[0;34m\u001b[0m\u001b[0;34m\u001b[0m\u001b[0m\n\u001b[1;32m     80\u001b[0m         raise ValueError(\"Classification metrics can't handle a mix of {0} \"\n\u001b[0;32m---> 81\u001b[0;31m                          \"and {1} targets\".format(type_true, type_pred))\n\u001b[0m\u001b[1;32m     82\u001b[0m \u001b[0;34m\u001b[0m\u001b[0m\n\u001b[1;32m     83\u001b[0m     \u001b[0;31m# We can't have more than one value on y_type => The set is no more needed\u001b[0m\u001b[0;34m\u001b[0m\u001b[0;34m\u001b[0m\u001b[0;34m\u001b[0m\u001b[0m\n",
      "\u001b[0;31mValueError\u001b[0m: Classification metrics can't handle a mix of multiclass and continuous targets"
     ]
    }
   ],
   "source": []
  },
  {
   "cell_type": "code",
   "execution_count": 108,
   "metadata": {},
   "outputs": [
    {
     "data": {
      "text/plain": [
       "<matplotlib.collections.PathCollection at 0x1a23cc3320>"
      ]
     },
     "execution_count": 108,
     "metadata": {},
     "output_type": "execute_result"
    },
    {
     "data": {
      "image/png": "[encoded data removed]",
      "text/plain": [
       "<Figure size 1440x720 with 1 Axes>"
      ]
     },
     "metadata": {
      "needs_background": "light"
     },
     "output_type": "display_data"
    }
   ],
   "source": [
    "plt.figure(figsize = (20,10))\n",
    "\n",
    "plt.scatter(y_test, lin_inc_pred)"
   ]
  },
  {
   "cell_type": "code",
   "execution_count": 109,
   "metadata": {},
   "outputs": [
    {
     "data": {
      "text/plain": [
       "-0.3290814740261545"
      ]
     },
     "execution_count": 109,
     "metadata": {},
     "output_type": "execute_result"
    }
   ],
   "source": [
    "from sklearn.neighbors import KNeighborsRegressor\n",
    "k_reg = KNeighborsRegressor()\n",
    "k_reg_pred = k_reg.fit(x_train, y_train).predict(x_test)\n",
    "r2_score(y_test, k_reg_pred)"
   ]
  },
  {
   "cell_type": "code",
   "execution_count": 110,
   "metadata": {},
   "outputs": [
    {
     "data": {
      "text/plain": [
       "0.031844747364780046"
      ]
     },
     "execution_count": 110,
     "metadata": {},
     "output_type": "execute_result"
    }
   ],
   "source": [
    "a=[]\n",
    "b = []\n",
    "for i in range(1,500):\n",
    "    k_reg = KNeighborsRegressor(n_neighbors=i)\n",
    "    k_reg_pred = k_reg.fit(x_train, y_train).predict(x_test)\n",
    "    a.append(r2_score(y_test, k_reg_pred))\n",
    "    b.append(i)\n",
    "max(a)"
   ]
  },
  {
   "cell_type": "code",
   "execution_count": null,
   "metadata": {},
   "outputs": [],
   "source": []
  },
  {
   "cell_type": "code",
   "execution_count": null,
   "metadata": {},
   "outputs": [],
   "source": []
  },
  {
   "cell_type": "code",
   "execution_count": 113,
   "metadata": {},
   "outputs": [
    {
     "data": {
      "text/plain": [
       "[<matplotlib.lines.Line2D at 0x1a24df5b70>]"
      ]
     },
     "execution_count": 113,
     "metadata": {},
     "output_type": "execute_result"
    },
    {
     "data": {
      "image/png": "[encoded data removed]",
      "text/plain": [
       "<Figure size 1080x576 with 1 Axes>"
      ]
     },
     "metadata": {
      "needs_background": "light"
     },
     "output_type": "display_data"
    }
   ],
   "source": [
    "plt.figure(figsize = \n",
    "           \n",
    "           (15,8))\n",
    "plt.plot(b,a)"
   ]
  },
  {
   "cell_type": "code",
   "execution_count": 114,
   "metadata": {},
   "outputs": [
    {
     "data": {
      "text/plain": [
       "<matplotlib.collections.PathCollection at 0x1a23c86cf8>"
      ]
     },
     "execution_count": 114,
     "metadata": {},
     "output_type": "execute_result"
    },
    {
     "data": {
      "image/png": "[encoded data removed]",
      "text/plain": [
       "<Figure size 1440x720 with 1 Axes>"
      ]
     },
     "metadata": {
      "needs_background": "light"
     },
     "output_type": "display_data"
    }
   ],
   "source": [
    "plt.figure(figsize = (20,10))\n",
    "\n",
    "plt.scatter(y_test, k_reg_pred)"
   ]
  },
  {
   "cell_type": "code",
   "execution_count": 115,
   "metadata": {},
   "outputs": [
    {
     "data": {
      "text/html": [
       "<div>\n",
       "<style scoped>\n",
       "    .dataframe tbody tr th:only-of-type {\n",
       "        vertical-align: middle;\n",
       "    }\n",
       "\n",
       "    .dataframe tbody tr th {\n",
       "        vertical-align: top;\n",
       "    }\n",
       "\n",
       "    .dataframe thead th {\n",
       "        text-align: right;\n",
       "    }\n",
       "</style>\n",
       "<table border=\"1\" class=\"dataframe\">\n",
       "  <thead>\n",
       "    <tr style=\"text-align: right;\">\n",
       "      <th></th>\n",
       "      <th>age</th>\n",
       "      <th>height</th>\n",
       "      <th>income</th>\n",
       "      <th>drinks_code</th>\n",
       "      <th>drugs_code</th>\n",
       "      <th>smokes_code</th>\n",
       "      <th>essay_len</th>\n",
       "      <th>avg_word_length</th>\n",
       "      <th>education_code</th>\n",
       "      <th>status_code</th>\n",
       "      <th>sex_code</th>\n",
       "      <th>job_code</th>\n",
       "      <th>location_code</th>\n",
       "      <th>ethnicity_code</th>\n",
       "    </tr>\n",
       "  </thead>\n",
       "  <tbody>\n",
       "    <tr>\n",
       "      <th>age</th>\n",
       "      <td>1.000000</td>\n",
       "      <td>-0.036197</td>\n",
       "      <td>-0.022141</td>\n",
       "      <td>-0.099674</td>\n",
       "      <td>-0.185742</td>\n",
       "      <td>-0.178652</td>\n",
       "      <td>0.012880</td>\n",
       "      <td>-0.044994</td>\n",
       "      <td>0.098646</td>\n",
       "      <td>-0.053143</td>\n",
       "      <td>0.068393</td>\n",
       "      <td>0.010665</td>\n",
       "      <td>0.073688</td>\n",
       "      <td>-0.123479</td>\n",
       "    </tr>\n",
       "    <tr>\n",
       "      <th>height</th>\n",
       "      <td>-0.036197</td>\n",
       "      <td>1.000000</td>\n",
       "      <td>0.077560</td>\n",
       "      <td>0.017310</td>\n",
       "      <td>0.084907</td>\n",
       "      <td>0.084061</td>\n",
       "      <td>0.016651</td>\n",
       "      <td>0.036731</td>\n",
       "      <td>0.065509</td>\n",
       "      <td>-0.008264</td>\n",
       "      <td>-0.659509</td>\n",
       "      <td>-0.047572</td>\n",
       "      <td>-0.006262</td>\n",
       "      <td>-0.015160</td>\n",
       "    </tr>\n",
       "    <tr>\n",
       "      <th>income</th>\n",
       "      <td>-0.022141</td>\n",
       "      <td>0.077560</td>\n",
       "      <td>1.000000</td>\n",
       "      <td>0.069081</td>\n",
       "      <td>0.093680</td>\n",
       "      <td>0.061111</td>\n",
       "      <td>-0.004508</td>\n",
       "      <td>0.040461</td>\n",
       "      <td>0.067183</td>\n",
       "      <td>-0.001710</td>\n",
       "      <td>-0.097393</td>\n",
       "      <td>0.063513</td>\n",
       "      <td>0.001579</td>\n",
       "      <td>0.040870</td>\n",
       "    </tr>\n",
       "    <tr>\n",
       "      <th>drinks_code</th>\n",
       "      <td>-0.099674</td>\n",
       "      <td>0.017310</td>\n",
       "      <td>0.069081</td>\n",
       "      <td>1.000000</td>\n",
       "      <td>0.233455</td>\n",
       "      <td>0.147806</td>\n",
       "      <td>-0.037861</td>\n",
       "      <td>-0.020272</td>\n",
       "      <td>0.036416</td>\n",
       "      <td>-0.012057</td>\n",
       "      <td>-0.001641</td>\n",
       "      <td>0.009418</td>\n",
       "      <td>-0.098416</td>\n",
       "      <td>-0.010450</td>\n",
       "    </tr>\n",
       "    <tr>\n",
       "      <th>drugs_code</th>\n",
       "      <td>-0.185742</td>\n",
       "      <td>0.084907</td>\n",
       "      <td>0.093680</td>\n",
       "      <td>0.233455</td>\n",
       "      <td>1.000000</td>\n",
       "      <td>0.341628</td>\n",
       "      <td>0.044093</td>\n",
       "      <td>0.087967</td>\n",
       "      <td>0.042807</td>\n",
       "      <td>0.075391</td>\n",
       "      <td>-0.078713</td>\n",
       "      <td>0.074232</td>\n",
       "      <td>-0.074907</td>\n",
       "      <td>0.013794</td>\n",
       "    </tr>\n",
       "    <tr>\n",
       "      <th>smokes_code</th>\n",
       "      <td>-0.178652</td>\n",
       "      <td>0.084061</td>\n",
       "      <td>0.061111</td>\n",
       "      <td>0.147806</td>\n",
       "      <td>0.341628</td>\n",
       "      <td>1.000000</td>\n",
       "      <td>-0.052603</td>\n",
       "      <td>-0.036592</td>\n",
       "      <td>0.075024</td>\n",
       "      <td>0.013856</td>\n",
       "      <td>-0.075513</td>\n",
       "      <td>0.063242</td>\n",
       "      <td>-0.007277</td>\n",
       "      <td>0.078593</td>\n",
       "    </tr>\n",
       "    <tr>\n",
       "      <th>essay_len</th>\n",
       "      <td>0.012880</td>\n",
       "      <td>0.016651</td>\n",
       "      <td>-0.004508</td>\n",
       "      <td>-0.037861</td>\n",
       "      <td>0.044093</td>\n",
       "      <td>-0.052603</td>\n",
       "      <td>1.000000</td>\n",
       "      <td>0.379793</td>\n",
       "      <td>-0.009634</td>\n",
       "      <td>0.119796</td>\n",
       "      <td>0.004233</td>\n",
       "      <td>-0.013580</td>\n",
       "      <td>-0.017947</td>\n",
       "      <td>-0.013641</td>\n",
       "    </tr>\n",
       "    <tr>\n",
       "      <th>avg_word_length</th>\n",
       "      <td>-0.044994</td>\n",
       "      <td>0.036731</td>\n",
       "      <td>0.040461</td>\n",
       "      <td>-0.020272</td>\n",
       "      <td>0.087967</td>\n",
       "      <td>-0.036592</td>\n",
       "      <td>0.379793</td>\n",
       "      <td>1.000000</td>\n",
       "      <td>0.011370</td>\n",
       "      <td>0.157214</td>\n",
       "      <td>-0.063494</td>\n",
       "      <td>0.008771</td>\n",
       "      <td>-0.047121</td>\n",
       "      <td>0.001034</td>\n",
       "    </tr>\n",
       "    <tr>\n",
       "      <th>education_code</th>\n",
       "      <td>0.098646</td>\n",
       "      <td>0.065509</td>\n",
       "      <td>0.067183</td>\n",
       "      <td>0.036416</td>\n",
       "      <td>0.042807</td>\n",
       "      <td>0.075024</td>\n",
       "      <td>-0.009634</td>\n",
       "      <td>0.011370</td>\n",
       "      <td>1.000000</td>\n",
       "      <td>0.008934</td>\n",
       "      <td>-0.054176</td>\n",
       "      <td>-0.000207</td>\n",
       "      <td>0.016909</td>\n",
       "      <td>0.015746</td>\n",
       "    </tr>\n",
       "    <tr>\n",
       "      <th>status_code</th>\n",
       "      <td>-0.053143</td>\n",
       "      <td>-0.008264</td>\n",
       "      <td>-0.001710</td>\n",
       "      <td>-0.012057</td>\n",
       "      <td>0.075391</td>\n",
       "      <td>0.013856</td>\n",
       "      <td>0.119796</td>\n",
       "      <td>0.157214</td>\n",
       "      <td>0.008934</td>\n",
       "      <td>1.000000</td>\n",
       "      <td>0.024382</td>\n",
       "      <td>0.006518</td>\n",
       "      <td>-0.011037</td>\n",
       "      <td>0.004065</td>\n",
       "    </tr>\n",
       "    <tr>\n",
       "      <th>sex_code</th>\n",
       "      <td>0.068393</td>\n",
       "      <td>-0.659509</td>\n",
       "      <td>-0.097393</td>\n",
       "      <td>-0.001641</td>\n",
       "      <td>-0.078713</td>\n",
       "      <td>-0.075513</td>\n",
       "      <td>0.004233</td>\n",
       "      <td>-0.063494</td>\n",
       "      <td>-0.054176</td>\n",
       "      <td>0.024382</td>\n",
       "      <td>1.000000</td>\n",
       "      <td>0.061340</td>\n",
       "      <td>-0.020582</td>\n",
       "      <td>0.007041</td>\n",
       "    </tr>\n",
       "    <tr>\n",
       "      <th>job_code</th>\n",
       "      <td>0.010665</td>\n",
       "      <td>-0.047572</td>\n",
       "      <td>0.063513</td>\n",
       "      <td>0.009418</td>\n",
       "      <td>0.074232</td>\n",
       "      <td>0.063242</td>\n",
       "      <td>-0.013580</td>\n",
       "      <td>0.008771</td>\n",
       "      <td>-0.000207</td>\n",
       "      <td>0.006518</td>\n",
       "      <td>0.061340</td>\n",
       "      <td>1.000000</td>\n",
       "      <td>-0.019795</td>\n",
       "      <td>0.012982</td>\n",
       "    </tr>\n",
       "    <tr>\n",
       "      <th>location_code</th>\n",
       "      <td>0.073688</td>\n",
       "      <td>-0.006262</td>\n",
       "      <td>0.001579</td>\n",
       "      <td>-0.098416</td>\n",
       "      <td>-0.074907</td>\n",
       "      <td>-0.007277</td>\n",
       "      <td>-0.017947</td>\n",
       "      <td>-0.047121</td>\n",
       "      <td>0.016909</td>\n",
       "      <td>-0.011037</td>\n",
       "      <td>-0.020582</td>\n",
       "      <td>-0.019795</td>\n",
       "      <td>1.000000</td>\n",
       "      <td>0.011117</td>\n",
       "    </tr>\n",
       "    <tr>\n",
       "      <th>ethnicity_code</th>\n",
       "      <td>-0.123479</td>\n",
       "      <td>-0.015160</td>\n",
       "      <td>0.040870</td>\n",
       "      <td>-0.010450</td>\n",
       "      <td>0.013794</td>\n",
       "      <td>0.078593</td>\n",
       "      <td>-0.013641</td>\n",
       "      <td>0.001034</td>\n",
       "      <td>0.015746</td>\n",
       "      <td>0.004065</td>\n",
       "      <td>0.007041</td>\n",
       "      <td>0.012982</td>\n",
       "      <td>0.011117</td>\n",
       "      <td>1.000000</td>\n",
       "    </tr>\n",
       "  </tbody>\n",
       "</table>\n",
       "</div>"
      ],
      "text/plain": [
       "                      age    height    income  drinks_code  drugs_code  \\\n",
       "age              1.000000 -0.036197 -0.022141    -0.099674   -0.185742   \n",
       "height          -0.036197  1.000000  0.077560     0.017310    0.084907   \n",
       "income          -0.022141  0.077560  1.000000     0.069081    0.093680   \n",
       "drinks_code     -0.099674  0.017310  0.069081     1.000000    0.233455   \n",
       "drugs_code      -0.185742  0.084907  0.093680     0.233455    1.000000   \n",
       "smokes_code     -0.178652  0.084061  0.061111     0.147806    0.341628   \n",
       "essay_len        0.012880  0.016651 -0.004508    -0.037861    0.044093   \n",
       "avg_word_length -0.044994  0.036731  0.040461    -0.020272    0.087967   \n",
       "education_code   0.098646  0.065509  0.067183     0.036416    0.042807   \n",
       "status_code     -0.053143 -0.008264 -0.001710    -0.012057    0.075391   \n",
       "sex_code         0.068393 -0.659509 -0.097393    -0.001641   -0.078713   \n",
       "job_code         0.010665 -0.047572  0.063513     0.009418    0.074232   \n",
       "location_code    0.073688 -0.006262  0.001579    -0.098416   -0.074907   \n",
       "ethnicity_code  -0.123479 -0.015160  0.040870    -0.010450    0.013794   \n",
       "\n",
       "                 smokes_code  essay_len  avg_word_length  education_code  \\\n",
       "age                -0.178652   0.012880        -0.044994        0.098646   \n",
       "height              0.084061   0.016651         0.036731        0.065509   \n",
       "income              0.061111  -0.004508         0.040461        0.067183   \n",
       "drinks_code         0.147806  -0.037861        -0.020272        0.036416   \n",
       "drugs_code          0.341628   0.044093         0.087967        0.042807   \n",
       "smokes_code         1.000000  -0.052603        -0.036592        0.075024   \n",
       "essay_len          -0.052603   1.000000         0.379793       -0.009634   \n",
       "avg_word_length    -0.036592   0.379793         1.000000        0.011370   \n",
       "education_code      0.075024  -0.009634         0.011370        1.000000   \n",
       "status_code         0.013856   0.119796         0.157214        0.008934   \n",
       "sex_code           -0.075513   0.004233        -0.063494       -0.054176   \n",
       "job_code            0.063242  -0.013580         0.008771       -0.000207   \n",
       "location_code      -0.007277  -0.017947        -0.047121        0.016909   \n",
       "ethnicity_code      0.078593  -0.013641         0.001034        0.015746   \n",
       "\n",
       "                 status_code  sex_code  job_code  location_code  \\\n",
       "age                -0.053143  0.068393  0.010665       0.073688   \n",
       "height             -0.008264 -0.659509 -0.047572      -0.006262   \n",
       "income             -0.001710 -0.097393  0.063513       0.001579   \n",
       "drinks_code        -0.012057 -0.001641  0.009418      -0.098416   \n",
       "drugs_code          0.075391 -0.078713  0.074232      -0.074907   \n",
       "smokes_code         0.013856 -0.075513  0.063242      -0.007277   \n",
       "essay_len           0.119796  0.004233 -0.013580      -0.017947   \n",
       "avg_word_length     0.157214 -0.063494  0.008771      -0.047121   \n",
       "education_code      0.008934 -0.054176 -0.000207       0.016909   \n",
       "status_code         1.000000  0.024382  0.006518      -0.011037   \n",
       "sex_code            0.024382  1.000000  0.061340      -0.020582   \n",
       "job_code            0.006518  0.061340  1.000000      -0.019795   \n",
       "location_code      -0.011037 -0.020582 -0.019795       1.000000   \n",
       "ethnicity_code      0.004065  0.007041  0.012982       0.011117   \n",
       "\n",
       "                 ethnicity_code  \n",
       "age                   -0.123479  \n",
       "height                -0.015160  \n",
       "income                 0.040870  \n",
       "drinks_code           -0.010450  \n",
       "drugs_code             0.013794  \n",
       "smokes_code            0.078593  \n",
       "essay_len             -0.013641  \n",
       "avg_word_length        0.001034  \n",
       "education_code         0.015746  \n",
       "status_code            0.004065  \n",
       "sex_code               0.007041  \n",
       "job_code               0.012982  \n",
       "location_code          0.011117  \n",
       "ethnicity_code         1.000000  "
      ]
     },
     "execution_count": 115,
     "metadata": {},
     "output_type": "execute_result"
    }
   ],
   "source": [
    "all_data.corr()"
   ]
  },
  {
   "cell_type": "code",
   "execution_count": 116,
   "metadata": {},
   "outputs": [],
   "source": [
    "from sklearn.neighbors import KNeighborsRegressor"
   ]
  },
  {
   "cell_type": "markdown",
   "metadata": {},
   "source": [
    "## predicting age with regression\n"
   ]
  },
  {
   "cell_type": "code",
   "execution_count": 117,
   "metadata": {},
   "outputs": [],
   "source": [
    "x_train, x_test, y_train, y_test = train_test_split(all_data[[ 'education_code','job_code', 'ethnicity_code', 'drugs_code','status_code']], all_data.age, test_size = 0.2, random_state=10)\n",
    "a=[]\n",
    "b=[]\n",
    "\n",
    "for i in range(1,200):\n",
    "    kn_reg_income = KNeighborsRegressor(n_neighbors=i)\n",
    "    kn_reg_pred = kn_reg_income.fit(x_train,y_train).predict(x_test)\n",
    "\n",
    "    a.append(kn_reg_income.score(x_test, y_test))\n",
    "    b.append(i)\n",
    "    "
   ]
  },
  {
   "cell_type": "code",
   "execution_count": 118,
   "metadata": {},
   "outputs": [
    {
     "data": {
      "text/plain": [
       "16"
      ]
     },
     "execution_count": 118,
     "metadata": {},
     "output_type": "execute_result"
    }
   ],
   "source": [
    "a.index(max(a))"
   ]
  },
  {
   "cell_type": "code",
   "execution_count": 119,
   "metadata": {},
   "outputs": [
    {
     "data": {
      "text/plain": [
       "0.19103687011620063"
      ]
     },
     "execution_count": 119,
     "metadata": {},
     "output_type": "execute_result"
    }
   ],
   "source": [
    "max(a)"
   ]
  },
  {
   "cell_type": "code",
   "execution_count": null,
   "metadata": {},
   "outputs": [],
   "source": []
  },
  {
   "cell_type": "code",
   "execution_count": null,
   "metadata": {},
   "outputs": [],
   "source": []
  },
  {
   "cell_type": "code",
   "execution_count": 122,
   "metadata": {},
   "outputs": [
    {
     "data": {
      "text/plain": [
       "[<matplotlib.lines.Line2D at 0x1a23d47e48>]"
      ]
     },
     "execution_count": 122,
     "metadata": {},
     "output_type": "execute_result"
    },
    {
     "data": {
      "image/png": "[encoded data removed]",
      "text/plain": [
       "<Figure size 1440x720 with 1 Axes>"
      ]
     },
     "metadata": {
      "needs_background": "light"
     },
     "output_type": "display_data"
    }
   ],
   "source": [
    "plt.figure(figsize = (20,10))\n",
    "\n",
    "plt.plot(b,a)"
   ]
  },
  {
   "cell_type": "code",
   "execution_count": 134,
   "metadata": {},
   "outputs": [
    {
     "data": {
      "text/plain": [
       "0.19103687011620063"
      ]
     },
     "execution_count": 134,
     "metadata": {},
     "output_type": "execute_result"
    }
   ],
   "source": [
    "kn_reg_income = KNeighborsRegressor(n_neighbors=17)\n",
    "kn_reg_pred = kn_reg_income.fit(x_train,y_train).predict(x_test)\n",
    "(kn_reg_income.score(x_test, y_test))\n"
   ]
  },
  {
   "cell_type": "code",
   "execution_count": 124,
   "metadata": {},
   "outputs": [
    {
     "data": {
      "text/plain": [
       "<matplotlib.collections.PathCollection at 0x1a24da04e0>"
      ]
     },
     "execution_count": 124,
     "metadata": {},
     "output_type": "execute_result"
    },
    {
     "data": {
      "image/png": "[encoded data removed]",
      "text/plain": [
       "<Figure size 1440x720 with 1 Axes>"
      ]
     },
     "metadata": {
      "needs_background": "light"
     },
     "output_type": "display_data"
    }
   ],
   "source": [
    "plt.figure(figsize = (20,10))\n",
    "\n",
    "plt.scatter(kn_reg_pred, y_test, alpha = 0.7)"
   ]
  },
  {
   "cell_type": "code",
   "execution_count": null,
   "metadata": {},
   "outputs": [],
   "source": []
  },
  {
   "cell_type": "code",
   "execution_count": 126,
   "metadata": {},
   "outputs": [],
   "source": [
    "reg = LinearRegression()"
   ]
  },
  {
   "cell_type": "code",
   "execution_count": 127,
   "metadata": {},
   "outputs": [],
   "source": [
    "reg_pred = reg.fit(x_train, y_train).predict(x_test)"
   ]
  },
  {
   "cell_type": "code",
   "execution_count": 128,
   "metadata": {},
   "outputs": [
    {
     "data": {
      "text/plain": [
       "0.0564133379863776"
      ]
     },
     "execution_count": 128,
     "metadata": {},
     "output_type": "execute_result"
    }
   ],
   "source": [
    "r2_score(y_test, reg_pred)"
   ]
  },
  {
   "cell_type": "code",
   "execution_count": null,
   "metadata": {},
   "outputs": [],
   "source": []
  },
  {
   "cell_type": "code",
   "execution_count": null,
   "metadata": {},
   "outputs": [],
   "source": [
    "\n"
   ]
  },
  {
   "cell_type": "code",
   "execution_count": 131,
   "metadata": {},
   "outputs": [
    {
     "data": {
      "text/plain": [
       "<matplotlib.collections.PathCollection at 0x1a24978358>"
      ]
     },
     "execution_count": 131,
     "metadata": {},
     "output_type": "execute_result"
    },
    {
     "data": {
      "image/png": "[encoded data removed]",
      "text/plain": [
       "<Figure size 432x288 with 1 Axes>"
      ]
     },
     "metadata": {
      "needs_background": "light"
     },
     "output_type": "display_data"
    }
   ],
   "source": [
    "plt.scatter(y_test, reg_pred)"
   ]
  },
  {
   "cell_type": "code",
   "execution_count": 132,
   "metadata": {},
   "outputs": [
    {
     "data": {
      "text/plain": [
       "Index(['education_code', 'sex_code', 'job_code', 'age', 'ethnicity_code'], dtype='object')"
      ]
     },
     "execution_count": 132,
     "metadata": {},
     "output_type": "execute_result"
    }
   ],
   "source": [
    "income_features.columns"
   ]
  },
  {
   "cell_type": "code",
   "execution_count": 133,
   "metadata": {},
   "outputs": [
    {
     "data": {
      "text/plain": [
       "Index(['age', 'body_type', 'diet', 'drinks', 'drugs', 'education', 'essay0',\n",
       "       'essay1', 'essay2', 'essay3', 'essay4', 'essay5', 'essay6', 'essay7',\n",
       "       'essay8', 'essay9', 'ethnicity', 'height', 'income', 'job',\n",
       "       'last_online', 'location', 'offspring', 'orientation', 'pets',\n",
       "       'religion', 'sex', 'sign', 'smokes', 'speaks', 'status', 'drinks_code',\n",
       "       'drugs_code', 'smokes_code', 'essay_len', 'avg_word_length',\n",
       "       'education_code', 'status_code', 'sex_code', 'job_code',\n",
       "       'location_code', 'ethnicity_code'],\n",
       "      dtype='object')"
      ]
     },
     "execution_count": 133,
     "metadata": {},
     "output_type": "execute_result"
    }
   ],
   "source": [
    "all_data.columns"
   ]
  },
  {
   "cell_type": "code",
   "execution_count": null,
   "metadata": {},
   "outputs": [],
   "source": []
  }
 ],
 "metadata": {
  "kernelspec": {
   "display_name": "Python 3",
   "language": "python",
   "name": "python3"
  },
  "language_info": {
   "codemirror_mode": {
    "name": "ipython",
    "version": 3
   },
   "file_extension": ".py",
   "mimetype": "text/x-python",
   "name": "python",
   "nbconvert_exporter": "python",
   "pygments_lexer": "ipython3",
   "version": "3.7.1"
  }
 },
 "nbformat": 4,
 "nbformat_minor": 2
}
